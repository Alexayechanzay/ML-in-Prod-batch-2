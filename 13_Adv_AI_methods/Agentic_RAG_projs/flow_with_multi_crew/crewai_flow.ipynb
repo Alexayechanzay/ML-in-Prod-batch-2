{
 "cells": [
  {
   "cell_type": "code",
   "execution_count": 7,
   "id": "e85c99d7",
   "metadata": {},
   "outputs": [
    {
     "data": {
      "text/plain": [
       "True"
      ]
     },
     "execution_count": 7,
     "metadata": {},
     "output_type": "execute_result"
    }
   ],
   "source": [
    "from dotenv import load_dotenv\n",
    "load_dotenv()"
   ]
  },
  {
   "cell_type": "code",
   "execution_count": 32,
   "id": "c6783782",
   "metadata": {},
   "outputs": [],
   "source": [
    "from crewai import Agent, Crew, Process, Task\n",
    "from pydantic import BaseModel\n",
    "from crewai import LLM\n",
    "from litellm import completion\n",
    "import json\n",
    "import os \n",
    "\n",
    "\n",
    "ollama_llm = completion(\n",
    "            model=\"ollama/llama3.2:latest\",\n",
    "            api_base=\"http://localhost:11434\"\n",
    "            )"
   ]
  },
  {
   "cell_type": "code",
   "execution_count": 33,
   "id": "19437f7d",
   "metadata": {},
   "outputs": [],
   "source": [
    "from pydantic import BaseModel, Field\n",
    "from typing import List, Dict\n",
    "\n",
    "class Section(BaseModel):\n",
    "    title: str = Field(description=\"Title of the section\")\n",
    "    description: str = Field(description=\"Brief description of what the section should cover\")\n",
    "\n",
    "class GuideOutline(BaseModel):\n",
    "    title: str = Field(description=\"Title of the guide\")\n",
    "    introduction: str = Field(description=\"Introduction to the topic\")\n",
    "    target_audience: str = Field(description=\"Description of the target audience\")\n",
    "    sections: List[Section] = Field(description=\"List of sections in the guide\")\n",
    "    conclusion: str = Field(description=\"Conclusion or summary of the guide\")\n",
    "\n"
   ]
  },
  {
   "cell_type": "code",
   "execution_count": 34,
   "id": "82a5e55a",
   "metadata": {},
   "outputs": [],
   "source": [
    "content_writer = Agent(\n",
    "    role=\"Educational Content Writer\",\n",
    "    goal=\"\"\"\n",
    "            Create engaging, informative content that thoroughly explains the assigned topic\n",
    "            and provides valuable insights to the reader  \"\"\",\n",
    "\n",
    "    backstory=\"\"\"You are a talented educational writer with expertise in creating clear, engaging\n",
    "                content. You have a gift for explaining complex concepts in accessible language\n",
    "                and organizing information in a way that helps readers build their understanding. \"\"\",\n",
    "    verbose=False,\n",
    "    allow_delegation=False,\n",
    "    llm=ollama_llm\n",
    ")"
   ]
  },
  {
   "cell_type": "code",
   "execution_count": 35,
   "id": "8181fcc8",
   "metadata": {},
   "outputs": [],
   "source": [
    "content_reviewer = Agent(\n",
    "    role=\"Educational Content Reviewer and Editor\",\n",
    "    goal=\"\"\" Ensure content is accurate, comprehensive, well-structured, and maintains\n",
    "            consistency with previously written sections  \"\"\",\n",
    "\n",
    "    backstory=\"\"\" You are a meticulous editor with years of experience reviewing educational\n",
    "                content. You have an eye for detail, clarity, and coherence. You excel at\n",
    "                improving content while maintaining the original author's voice and ensuring\n",
    "                consistent quality across multiple sections. \"\"\",\n",
    "    verbose=False,\n",
    "    allow_delegation=False,\n",
    "    llm=ollama_llm\n",
    ")"
   ]
  },
  {
   "cell_type": "code",
   "execution_count": 36,
   "id": "07a25f77",
   "metadata": {},
   "outputs": [],
   "source": [
    "write_section_task = Task(\n",
    "    description=\"\"\"\n",
    "                Write a comprehensive section on the topic: \"{section_title}\"\n",
    "\n",
    "                Section description: {section_description}\n",
    "                Target audience: {audience_level} level learners\n",
    "\n",
    "                Your content should:\n",
    "                1. Begin with a brief introduction to the section topic\n",
    "                2. Explain all key concepts clearly with examples\n",
    "                3. Include practical applications or exercises where appropriate\n",
    "                4. End with a summary of key points\n",
    "                5. Be approximately 500-800 words in length\n",
    "\n",
    "                Format your content in Markdown with appropriate headings, lists, and emphasis.\n",
    "\n",
    "                Previously written sections:\n",
    "                {previous_sections}\n",
    "\n",
    "                Make sure your content maintains consistency with previously written sections\n",
    "                and builds upon concepts that have already been explained.\n",
    "                \"\"\",\n",
    "    expected_output=\"\"\" A well-structured, comprehensive section in Markdown format that thoroughly\n",
    "                        explains the topic and is appropriate for the target audience.\"\"\",    \n",
    "    agent=content_writer,\n",
    ")"
   ]
  },
  {
   "cell_type": "code",
   "execution_count": 37,
   "id": "c42b29db",
   "metadata": {},
   "outputs": [],
   "source": [
    "review_section_task = Task(\n",
    "    description=\"\"\"\n",
    "                Review and improve the following section on \"{section_title}\":\n",
    "                {draft_content}\n",
    "\n",
    "                Target audience: {audience_level} level learners\n",
    "\n",
    "                Previously written sections:\n",
    "                {previous_sections}\n",
    "\n",
    "                Your review should:\n",
    "                1. Fix any grammatical or spelling errors\n",
    "                2. Improve clarity and readability\n",
    "                3. Ensure content is comprehensive and accurate\n",
    "                4. Verify consistency with previously written sections\n",
    "                5. Enhance the structure and flow\n",
    "                6. Add any missing key information\n",
    "\n",
    "                Provide the improved version of the section in Markdown format.\n",
    "                \"\"\",\n",
    "    expected_output=\"\"\" An improved, polished version of the section that maintains the original\n",
    "                        structure but enhances clarity, accuracy, and consistency.\"\"\",    \n",
    "    agent=content_reviewer\n",
    ")"
   ]
  },
  {
   "cell_type": "code",
   "execution_count": 38,
   "id": "fecadb1f",
   "metadata": {},
   "outputs": [],
   "source": [
    "crew = Crew(\n",
    "    agents=[content_writer, content_reviewer],\n",
    "    tasks=[write_section_task, review_section_task],\n",
    "    verbose=True,\n",
    "    process=Process.sequential,\n",
    ")"
   ]
  },
  {
   "cell_type": "code",
   "execution_count": 39,
   "id": "904208b9",
   "metadata": {},
   "outputs": [],
   "source": [
    "# Define our flow state\n",
    "class GuideCreatorState(BaseModel):\n",
    "    topic: str = \"\"\n",
    "    audience_level: str = \"\"\n",
    "    guide_outline: GuideOutline = None\n",
    "    sections_content: Dict[str, str] = {}"
   ]
  },
  {
   "cell_type": "code",
   "execution_count": 40,
   "id": "33e0dad1",
   "metadata": {},
   "outputs": [],
   "source": [
    "from crewai.flow.flow import Flow, listen, start\n",
    "\n",
    "class GuideCreatorFlow(Flow[GuideCreatorState]):\n",
    "    \"\"\"Flow for creating a comprehensive guide on any topic\"\"\"\n",
    "\n",
    "    @start()\n",
    "    def get_user_input(self):\n",
    "        \"\"\"Get input from the user about the guide topic and audience\"\"\"\n",
    "        print(\"\\n=== Create Your Comprehensive Guide ===\\n\")\n",
    "\n",
    "        # Get user input\n",
    "        self.state.topic = input(\"What topic would you like to create a guide for? \")\n",
    "\n",
    "        # Get audience level with validation\n",
    "        while True:\n",
    "            audience = input(\"Who is your target audience? (beginner/intermediate/advanced) \").lower()\n",
    "            if audience in [\"beginner\", \"intermediate\", \"advanced\"]:\n",
    "                self.state.audience_level = audience\n",
    "                break\n",
    "            print(\"Please enter 'beginner', 'intermediate', or 'advanced'\")\n",
    "\n",
    "        print(f\"\\nCreating a guide on {self.state.topic} for {self.state.audience_level} audience...\\n\")\n",
    "        return self.state\n",
    "    \n",
    "\n",
    "    @listen(get_user_input)\n",
    "    def create_guide_outline(self, state):\n",
    "        \"\"\"Create a structured outline for the guide using a direct LLM call\"\"\"\n",
    "        print(\"Creating guide outline...\")\n",
    "\n",
    "        # Initialize the LLM\n",
    "        llm = LLM(model=\"openai/gpt-4o-mini\", response_format=GuideOutline)\n",
    "\n",
    "        # Create the messages for the outline\n",
    "        messages = [\n",
    "            {\"role\": \"system\", \"content\": \"You are a helpful assistant designed to output JSON.\"},\n",
    "            {\"role\": \"user\", \"content\": f\"\"\"\n",
    "            Create a detailed outline for a comprehensive guide on \"{state.topic}\" for {state.audience_level} level learners.\n",
    "\n",
    "            The outline should include:\n",
    "            1. A compelling title for the guide\n",
    "            2. An introduction to the topic\n",
    "            3. 4-6 main sections that cover the most important aspects of the topic\n",
    "            4. A conclusion or summary\n",
    "\n",
    "            For each section, provide a clear title and a brief description of what it should cover.\n",
    "            \"\"\"}\n",
    "        ]\n",
    "\n",
    "        # Make the LLM call with JSON response format\n",
    "        response = llm.call(messages=messages)\n",
    "\n",
    "        # Parse the JSON response\n",
    "        outline_dict = json.loads(response)\n",
    "        self.state.guide_outline = GuideOutline(**outline_dict)\n",
    "\n",
    "        # Ensure output directory exists before saving\n",
    "        os.makedirs(\"output\", exist_ok=True)\n",
    "\n",
    "        # Save the outline to a file\n",
    "        with open(\"output/guide_outline.json\", \"w\") as f:\n",
    "            json.dump(outline_dict, f, indent=2)\n",
    "\n",
    "        print(f\"Guide outline created with {len(self.state.guide_outline.sections)} sections\")\n",
    "        return self.state.guide_outline\n",
    "    \n",
    "\n",
    "\n",
    "    @listen(create_guide_outline)\n",
    "    def write_and_compile_guide(self, outline):\n",
    "        \"\"\"Write all sections and compile the guide\"\"\"\n",
    "        print(\"Writing guide sections and compiling...\")\n",
    "        completed_sections = []\n",
    "\n",
    "        # Process sections one by one to maintain context flow\n",
    "        for section in outline.sections:\n",
    "            print(f\"Processing section: {section.title}\")\n",
    "\n",
    "            # Build context from previous sections\n",
    "            previous_sections_text = \"\"\n",
    "            if completed_sections:\n",
    "                previous_sections_text = \"# Previously Written Sections\\n\\n\"\n",
    "                for title in completed_sections:\n",
    "                    previous_sections_text += f\"## {title}\\n\\n\"\n",
    "                    previous_sections_text += self.state.sections_content.get(title, \"\") + \"\\n\\n\"\n",
    "            else:\n",
    "                previous_sections_text = \"No previous sections written yet.\"\n",
    "\n",
    "            # Run the content crew for this section\n",
    "            result = ContentCrew().crew().kickoff(inputs={\n",
    "                \"section_title\": section.title,\n",
    "                \"section_description\": section.description,\n",
    "                \"audience_level\": self.state.audience_level,\n",
    "                \"previous_sections\": previous_sections_text,\n",
    "                \"draft_content\": \"\"\n",
    "            })\n",
    "\n",
    "            # Store the content\n",
    "            self.state.sections_content[section.title] = result.raw\n",
    "            completed_sections.append(section.title)\n",
    "            print(f\"Section completed: {section.title}\")\n",
    "\n",
    "        # Compile the final guide\n",
    "        guide_content = f\"# {outline.title}\\n\\n\"\n",
    "        guide_content += f\"## Introduction\\n\\n{outline.introduction}\\n\\n\"\n",
    "\n",
    "        # Add each section in order\n",
    "        for section in outline.sections:\n",
    "            section_content = self.state.sections_content.get(section.title, \"\")\n",
    "            guide_content += f\"\\n\\n{section_content}\\n\\n\"\n",
    "\n",
    "        # Add conclusion\n",
    "        guide_content += f\"## Conclusion\\n\\n{outline.conclusion}\\n\\n\"\n",
    "\n",
    "        # Save the guide\n",
    "        with open(\"output/complete_guide.md\", \"w\") as f:\n",
    "            f.write(guide_content)\n",
    "\n",
    "        print(\"\\nComplete guide compiled and saved to output/complete_guide.md\")\n",
    "        return \"Guide creation completed successfully\""
   ]
  },
  {
   "cell_type": "code",
   "execution_count": 41,
   "id": "1889d2fd",
   "metadata": {},
   "outputs": [],
   "source": [
    "def kickoff():\n",
    "    \"\"\"Run the guide creator flow\"\"\"\n",
    "    GuideCreatorFlow().kickoff()\n",
    "    print(\"\\n=== Flow Complete ===\")\n",
    "    print(\"Your comprehensive guide is ready in the output directory.\")\n",
    "    print(\"Open output/complete_guide.md to view it.\")\n",
    "\n",
    "def plot():\n",
    "    \"\"\"Generate a visualization of the flow\"\"\"\n",
    "    flow = GuideCreatorFlow()\n",
    "    flow.plot(\"guide_creator_flow\")\n",
    "    print(\"Flow visualization saved to guide_creator_flow.html\")"
   ]
  },
  {
   "cell_type": "code",
   "execution_count": 42,
   "id": "eb8b2bf9",
   "metadata": {},
   "outputs": [
    {
     "data": {
      "text/html": [
       "<pre style=\"white-space:pre;overflow-x:auto;line-height:normal;font-family:Menlo,'DejaVu Sans Mono',consolas,'Courier New',monospace\"><span style=\"color: #000080; text-decoration-color: #000080\">╭──────────────────────────────────────────────── Flow Execution ─────────────────────────────────────────────────╮</span>\n",
       "<span style=\"color: #000080; text-decoration-color: #000080\">│</span>                                                                                                                 <span style=\"color: #000080; text-decoration-color: #000080\">│</span>\n",
       "<span style=\"color: #000080; text-decoration-color: #000080\">│</span>  <span style=\"color: #000080; text-decoration-color: #000080; font-weight: bold\">Starting Flow Execution</span>                                                                                        <span style=\"color: #000080; text-decoration-color: #000080\">│</span>\n",
       "<span style=\"color: #000080; text-decoration-color: #000080\">│</span>  <span style=\"color: #c0c0c0; text-decoration-color: #c0c0c0\">Name: </span><span style=\"color: #000080; text-decoration-color: #000080\">GuideCreatorFlow</span>                                                                                         <span style=\"color: #000080; text-decoration-color: #000080\">│</span>\n",
       "<span style=\"color: #000080; text-decoration-color: #000080\">│</span>  <span style=\"color: #c0c0c0; text-decoration-color: #c0c0c0\">ID: </span><span style=\"color: #000080; text-decoration-color: #000080\">cbe5cbf3-faff-4be5-bfcc-1875cefde505</span>                                                                       <span style=\"color: #000080; text-decoration-color: #000080\">│</span>\n",
       "<span style=\"color: #000080; text-decoration-color: #000080\">│</span>                                                                                                                 <span style=\"color: #000080; text-decoration-color: #000080\">│</span>\n",
       "<span style=\"color: #000080; text-decoration-color: #000080\">│</span>                                                                                                                 <span style=\"color: #000080; text-decoration-color: #000080\">│</span>\n",
       "<span style=\"color: #000080; text-decoration-color: #000080\">╰─────────────────────────────────────────────────────────────────────────────────────────────────────────────────╯</span>\n",
       "</pre>\n"
      ],
      "text/plain": [
       "\u001b[34m╭─\u001b[0m\u001b[34m───────────────────────────────────────────────\u001b[0m\u001b[34m Flow Execution \u001b[0m\u001b[34m────────────────────────────────────────────────\u001b[0m\u001b[34m─╮\u001b[0m\n",
       "\u001b[34m│\u001b[0m                                                                                                                 \u001b[34m│\u001b[0m\n",
       "\u001b[34m│\u001b[0m  \u001b[1;34mStarting Flow Execution\u001b[0m                                                                                        \u001b[34m│\u001b[0m\n",
       "\u001b[34m│\u001b[0m  \u001b[37mName: \u001b[0m\u001b[34mGuideCreatorFlow\u001b[0m                                                                                         \u001b[34m│\u001b[0m\n",
       "\u001b[34m│\u001b[0m  \u001b[37mID: \u001b[0m\u001b[34mcbe5cbf3-faff-4be5-bfcc-1875cefde505\u001b[0m                                                                       \u001b[34m│\u001b[0m\n",
       "\u001b[34m│\u001b[0m                                                                                                                 \u001b[34m│\u001b[0m\n",
       "\u001b[34m│\u001b[0m                                                                                                                 \u001b[34m│\u001b[0m\n",
       "\u001b[34m╰─────────────────────────────────────────────────────────────────────────────────────────────────────────────────╯\u001b[0m\n"
      ]
     },
     "metadata": {},
     "output_type": "display_data"
    },
    {
     "data": {
      "text/html": [
       "<pre style=\"white-space:pre;overflow-x:auto;line-height:normal;font-family:Menlo,'DejaVu Sans Mono',consolas,'Courier New',monospace\">\n",
       "</pre>\n"
      ],
      "text/plain": [
       "\n"
      ]
     },
     "metadata": {},
     "output_type": "display_data"
    },
    {
     "ename": "RuntimeError",
     "evalue": "asyncio.run() cannot be called from a running event loop",
     "output_type": "error",
     "traceback": [
      "\u001b[0;31m---------------------------------------------------------------------------\u001b[0m",
      "\u001b[0;31mRuntimeError\u001b[0m                              Traceback (most recent call last)",
      "Cell \u001b[0;32mIn[42], line 2\u001b[0m\n\u001b[1;32m      1\u001b[0m \u001b[38;5;28;01mif\u001b[39;00m \u001b[38;5;18m__name__\u001b[39m \u001b[38;5;241m==\u001b[39m \u001b[38;5;124m\"\u001b[39m\u001b[38;5;124m__main__\u001b[39m\u001b[38;5;124m\"\u001b[39m:\n\u001b[0;32m----> 2\u001b[0m     \u001b[43mkickoff\u001b[49m\u001b[43m(\u001b[49m\u001b[43m)\u001b[49m\n",
      "Cell \u001b[0;32mIn[41], line 3\u001b[0m, in \u001b[0;36mkickoff\u001b[0;34m()\u001b[0m\n\u001b[1;32m      1\u001b[0m \u001b[38;5;28;01mdef\u001b[39;00m\u001b[38;5;250m \u001b[39m\u001b[38;5;21mkickoff\u001b[39m():\n\u001b[1;32m      2\u001b[0m \u001b[38;5;250m    \u001b[39m\u001b[38;5;124;03m\"\"\"Run the guide creator flow\"\"\"\u001b[39;00m\n\u001b[0;32m----> 3\u001b[0m     \u001b[43mGuideCreatorFlow\u001b[49m\u001b[43m(\u001b[49m\u001b[43m)\u001b[49m\u001b[38;5;241;43m.\u001b[39;49m\u001b[43mkickoff\u001b[49m\u001b[43m(\u001b[49m\u001b[43m)\u001b[49m\n\u001b[1;32m      4\u001b[0m     \u001b[38;5;28mprint\u001b[39m(\u001b[38;5;124m\"\u001b[39m\u001b[38;5;130;01m\\n\u001b[39;00m\u001b[38;5;124m=== Flow Complete ===\u001b[39m\u001b[38;5;124m\"\u001b[39m)\n\u001b[1;32m      5\u001b[0m     \u001b[38;5;28mprint\u001b[39m(\u001b[38;5;124m\"\u001b[39m\u001b[38;5;124mYour comprehensive guide is ready in the output directory.\u001b[39m\u001b[38;5;124m\"\u001b[39m)\n",
      "File \u001b[0;32m~/.local/share/virtualenvs/Agentic_RAG_projs-hQf1ctZM/lib/python3.10/site-packages/crewai/flow/flow.py:722\u001b[0m, in \u001b[0;36mFlow.kickoff\u001b[0;34m(self, inputs)\u001b[0m\n\u001b[1;32m    719\u001b[0m \u001b[38;5;28;01masync\u001b[39;00m \u001b[38;5;28;01mdef\u001b[39;00m\u001b[38;5;250m \u001b[39m\u001b[38;5;21mrun_flow\u001b[39m():\n\u001b[1;32m    720\u001b[0m     \u001b[38;5;28;01mreturn\u001b[39;00m \u001b[38;5;28;01mawait\u001b[39;00m \u001b[38;5;28mself\u001b[39m\u001b[38;5;241m.\u001b[39mkickoff_async(inputs)\n\u001b[0;32m--> 722\u001b[0m \u001b[38;5;28;01mreturn\u001b[39;00m \u001b[43masyncio\u001b[49m\u001b[38;5;241;43m.\u001b[39;49m\u001b[43mrun\u001b[49m\u001b[43m(\u001b[49m\u001b[43mrun_flow\u001b[49m\u001b[43m(\u001b[49m\u001b[43m)\u001b[49m\u001b[43m)\u001b[49m\n",
      "File \u001b[0;32m/opt/anaconda3/envs/ths_dev/lib/python3.10/asyncio/runners.py:33\u001b[0m, in \u001b[0;36mrun\u001b[0;34m(main, debug)\u001b[0m\n\u001b[1;32m      9\u001b[0m \u001b[38;5;250m\u001b[39m\u001b[38;5;124;03m\"\"\"Execute the coroutine and return the result.\u001b[39;00m\n\u001b[1;32m     10\u001b[0m \n\u001b[1;32m     11\u001b[0m \u001b[38;5;124;03mThis function runs the passed coroutine, taking care of\u001b[39;00m\n\u001b[0;32m   (...)\u001b[0m\n\u001b[1;32m     30\u001b[0m \u001b[38;5;124;03m    asyncio.run(main())\u001b[39;00m\n\u001b[1;32m     31\u001b[0m \u001b[38;5;124;03m\"\"\"\u001b[39;00m\n\u001b[1;32m     32\u001b[0m \u001b[38;5;28;01mif\u001b[39;00m events\u001b[38;5;241m.\u001b[39m_get_running_loop() \u001b[38;5;129;01mis\u001b[39;00m \u001b[38;5;129;01mnot\u001b[39;00m \u001b[38;5;28;01mNone\u001b[39;00m:\n\u001b[0;32m---> 33\u001b[0m     \u001b[38;5;28;01mraise\u001b[39;00m \u001b[38;5;167;01mRuntimeError\u001b[39;00m(\n\u001b[1;32m     34\u001b[0m         \u001b[38;5;124m\"\u001b[39m\u001b[38;5;124masyncio.run() cannot be called from a running event loop\u001b[39m\u001b[38;5;124m\"\u001b[39m)\n\u001b[1;32m     36\u001b[0m \u001b[38;5;28;01mif\u001b[39;00m \u001b[38;5;129;01mnot\u001b[39;00m coroutines\u001b[38;5;241m.\u001b[39miscoroutine(main):\n\u001b[1;32m     37\u001b[0m     \u001b[38;5;28;01mraise\u001b[39;00m \u001b[38;5;167;01mValueError\u001b[39;00m(\u001b[38;5;124m\"\u001b[39m\u001b[38;5;124ma coroutine was expected, got \u001b[39m\u001b[38;5;132;01m{!r}\u001b[39;00m\u001b[38;5;124m\"\u001b[39m\u001b[38;5;241m.\u001b[39mformat(main))\n",
      "\u001b[0;31mRuntimeError\u001b[0m: asyncio.run() cannot be called from a running event loop"
     ]
    }
   ],
   "source": [
    "if __name__ == \"__main__\":\n",
    "    kickoff()"
   ]
  },
  {
   "cell_type": "code",
   "execution_count": null,
   "id": "bcd425ed",
   "metadata": {},
   "outputs": [],
   "source": []
  }
 ],
 "metadata": {
  "kernelspec": {
   "display_name": "Agentic_RAG_projs-hQf1ctZM",
   "language": "python",
   "name": "python3"
  },
  "language_info": {
   "codemirror_mode": {
    "name": "ipython",
    "version": 3
   },
   "file_extension": ".py",
   "mimetype": "text/x-python",
   "name": "python",
   "nbconvert_exporter": "python",
   "pygments_lexer": "ipython3",
   "version": "3.10.16"
  }
 },
 "nbformat": 4,
 "nbformat_minor": 5
}

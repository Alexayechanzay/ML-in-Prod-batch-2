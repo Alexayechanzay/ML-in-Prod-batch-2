{
 "cells": [
  {
   "cell_type": "markdown",
   "metadata": {},
   "source": [
    "### Automated Event Planning"
   ]
  },
  {
   "cell_type": "code",
   "execution_count": null,
   "metadata": {},
   "outputs": [],
   "source": []
  },
  {
   "cell_type": "code",
   "execution_count": 17,
   "metadata": {},
   "outputs": [
    {
     "data": {
      "text/plain": [
       "True"
      ]
     },
     "execution_count": 17,
     "metadata": {},
     "output_type": "execute_result"
    }
   ],
   "source": [
    "from dotenv import load_dotenv\n",
    "load_dotenv()"
   ]
  },
  {
   "cell_type": "code",
   "execution_count": 18,
   "metadata": {},
   "outputs": [],
   "source": [
    "from crewai import Agent, Task, Crew\n",
    "\"\"\"\n",
    "from crewai import LLM\n",
    "ollama_llm = LLM(\n",
    "            model=\"ollama/llama3.2:latest\",\n",
    "            api_base=\"http://localhost:11434\"\n",
    "            )\n",
    "\n",
    "\n",
    "\n",
    "from langchain_community.llms import Ollama\n",
    "ollama_llm =Ollama(\n",
    "    model=\"llama3.2:latest\",\n",
    "    temperature=0,\n",
    "    # other params...\n",
    ")\n",
    "\"\"\"\n",
    "from langchain_openai import ChatOpenAI\n",
    "import os\n",
    "ollama_llm =ChatOpenAI(\n",
    "    openai_api_key=os.environ['GROQ_API_KEY'],\n",
    "    openai_api_base=\"https://api.groq.com/openai/v1\",\n",
    "    model_name=\"llama3-8b-8192\",\n",
    "    temperature=0.1,\n",
    "    max_tokens=1000,\n",
    "\n",
    ")"
   ]
  },
  {
   "cell_type": "code",
   "execution_count": 19,
   "metadata": {},
   "outputs": [],
   "source": [
    "from crewai_tools import ScrapeWebsiteTool, SerperDevTool\n",
    "\n",
    "# Initialize the tools\n",
    "search_tool = SerperDevTool()\n",
    "scrape_tool = ScrapeWebsiteTool()"
   ]
  },
  {
   "cell_type": "markdown",
   "metadata": {},
   "source": [
    "#### Creating Agents"
   ]
  },
  {
   "cell_type": "code",
   "execution_count": 20,
   "metadata": {},
   "outputs": [],
   "source": [
    "# Agent 1: Venue Coordinator\n",
    "venue_coordinator = Agent(\n",
    "    role=\"Venue Coordinator\",\n",
    "    goal=\"Identify and book an appropriate venue \"\n",
    "    \"based on event requirements\",\n",
    "\n",
    "    tools=[search_tool, scrape_tool],\n",
    "    verbose=True,\n",
    "    backstory=(\n",
    "        \"With a keen sense of space and \"\n",
    "        \"understanding of event logistics, \"\n",
    "        \"you excel at finding and securing \"\n",
    "        \"the perfect venue that fits the event's theme, \"\n",
    "        \"size, and budget constraints.\"\n",
    "    ),\n",
    "    llm=ollama_llm,\n",
    "    allow_delegation=True\n",
    ")"
   ]
  },
  {
   "cell_type": "code",
   "execution_count": 21,
   "metadata": {},
   "outputs": [],
   "source": [
    " # Agent 2: Logistics Manager\n",
    "logistics_manager = Agent(\n",
    "    role='Logistics Manager',\n",
    "    goal=(\n",
    "        \"Manage all logistics for the event \"\n",
    "        \"including catering and equipmen\"\n",
    "    ),\n",
    "    tools=[search_tool, scrape_tool],\n",
    "    verbose=True,\n",
    "    backstory=(\n",
    "        \"Organized and detail-oriented, \"\n",
    "        \"you ensure that every logistical aspect of the event \"\n",
    "        \"from catering to equipment setup \"\n",
    "        \"is flawlessly executed to create a seamless experience.\"\n",
    "    ),\n",
    "    llm=ollama_llm,\n",
    "    allow_delegation=True\n",
    ")"
   ]
  },
  {
   "cell_type": "code",
   "execution_count": 22,
   "metadata": {},
   "outputs": [],
   "source": [
    "# Agent 3: Marketing and Communications Agent\n",
    "marketing_communications_agent = Agent(\n",
    "    role=\"Marketing and Communications Agent\",\n",
    "    goal=\"Effectively market the event and \"\n",
    "         \"communicate with participants\",\n",
    "    tools=[search_tool, scrape_tool],\n",
    "    verbose=True,\n",
    "    backstory=(\n",
    "        \"Creative and communicative, \"\n",
    "        \"you craft compelling messages and \"\n",
    "        \"engage with potential attendees \"\n",
    "        \"to maximize event exposure and participation.\"\n",
    "    ),\n",
    "    llm=ollama_llm,\n",
    "    allow_delegation=False\n",
    ")"
   ]
  },
  {
   "cell_type": "markdown",
   "metadata": {},
   "source": [
    "### Creating Venue Pydantic Object\n",
    "Agents will populate this object with information about different venues by creating different instances of it."
   ]
  },
  {
   "cell_type": "code",
   "execution_count": 23,
   "metadata": {},
   "outputs": [],
   "source": [
    "from pydantic import BaseModel\n",
    "# Define a Pydantic model for venue details \n",
    "# (demonstrating Output as Pydantic)\n",
    "class VenueDetails(BaseModel):\n",
    "    name: str\n",
    "    address: str\n",
    "    capacity: int\n",
    "    booking_status: str"
   ]
  },
  {
   "cell_type": "code",
   "execution_count": 24,
   "metadata": {},
   "outputs": [],
   "source": [
    "venue_task = Task(\n",
    "    description=\"Find a venue in {event_city} \"\n",
    "                \"that meets criteria for {event_topic}.\",\n",
    "    expected_output=\"All the details of a specifically chosen\"\n",
    "                    \"venue you found to accommodate the event.\",\n",
    "    human_input=True,\n",
    "    output_json=VenueDetails,\n",
    "    output_file=\"venue_details.json\",  \n",
    "      # Outputs the venue details as a JSON file\n",
    "    agent=venue_coordinator,\n",
    "   \n",
    ")"
   ]
  },
  {
   "cell_type": "code",
   "execution_count": 25,
   "metadata": {},
   "outputs": [],
   "source": [
    "logistics_task = Task(\n",
    "    description=\"Coordinate catering and \"\n",
    "                 \"equipment for an event \"\n",
    "                 \"with {expected_participants} participants \"\n",
    "                 \"on {tentative_date}.\",\n",
    "    expected_output=\"Confirmation of all logistics arrangements \"\n",
    "                    \"including catering and equipment setup.\",\n",
    "    human_input=True,\n",
    "    #async_execution=True,\n",
    "    agent=logistics_manager,\n",
    "  \n",
    ")"
   ]
  },
  {
   "cell_type": "code",
   "execution_count": 26,
   "metadata": {},
   "outputs": [],
   "source": [
    "marketing_task = Task(\n",
    "    description=\"Promote the {event_topic} \"\n",
    "                \"aiming to engage at least\"\n",
    "                \"{expected_participants} potential attendees.\",\n",
    "    expected_output=\"Report on marketing activities \"\n",
    "                    \"and attendee engagement formatted as markdown.\",\n",
    "    async_execution=True,\n",
    "    output_file=\"marketing_report.md\",  # Outputs the report as a text file\n",
    "    agent=marketing_communications_agent,\n",
    "\n",
    ")"
   ]
  },
  {
   "cell_type": "markdown",
   "metadata": {},
   "source": [
    "**Note**: Since you set `async_execution=True` for `logistics_task` and `marketing_task` tasks, now the order for them does not matter in the `tasks` list."
   ]
  },
  {
   "cell_type": "code",
   "execution_count": 27,
   "metadata": {},
   "outputs": [
    {
     "name": "stderr",
     "output_type": "stream",
     "text": [
      "2025-05-18 11:07:25,631 - 8417615616 - __init__.py-__init__:535 - WARNING: Overriding of current TracerProvider is not allowed\n"
     ]
    }
   ],
   "source": [
    "# Define the crew with agents and tasks\n",
    "event_management_crew = Crew(\n",
    "    agents=[venue_coordinator, \n",
    "            logistics_manager, \n",
    "            marketing_communications_agent],\n",
    "    \n",
    "    tasks=[venue_task, \n",
    "           logistics_task, \n",
    "           marketing_task],\n",
    "           \n",
    "    \n",
    "    verbose=True\n",
    ")"
   ]
  },
  {
   "cell_type": "markdown",
   "metadata": {},
   "source": [
    "#### Define Input\n"
   ]
  },
  {
   "cell_type": "code",
   "execution_count": 30,
   "metadata": {},
   "outputs": [],
   "source": [
    "event_details = {\n",
    "    'event_topic': \"Tech Innovation Conference\",\n",
    "    'event_description': \"A gathering of tech innovators \"\n",
    "                         \"and industry leaders \"\n",
    "                         \"to explore future technologies.\",\n",
    "    'event_city': \"San Francisco\",\n",
    "    'tentative_date': \"2025-05-12\",\n",
    "    'expected_participants': 200,\n",
    "    'budget': 2000000,\n",
    "    'venue_type': \"Conference Hall\"\n",
    "}"
   ]
  },
  {
   "cell_type": "code",
   "execution_count": null,
   "metadata": {},
   "outputs": [],
   "source": []
  },
  {
   "cell_type": "code",
   "execution_count": null,
   "metadata": {},
   "outputs": [],
   "source": []
  },
  {
   "cell_type": "code",
   "execution_count": null,
   "metadata": {},
   "outputs": [
    {
     "name": "stdout",
     "output_type": "stream",
     "text": [
      "\u001b[1m\u001b[95m [DEBUG]: == Working Agent: Venue Coordinator\u001b[00m\n",
      "\u001b[1m\u001b[95m [INFO]: == Starting Task: Find a venue in San Francisco that meets criteria for Tech Innovation Conference.\u001b[00m\n",
      "\n",
      "\n",
      "\u001b[1m> Entering new CrewAgentExecutor chain...\u001b[0m\n",
      "\u001b[32;1m\u001b[1;3mThought: I need to start by gathering information about the event and the criteria for the venue.\n",
      "\n",
      "Action: Search the internet\n",
      "\n",
      "Action Input: {\"search_query\": \"tech innovation conference san francisco venue criteria\"}\n",
      "\u001b[0m\u001b[95m \n",
      "\n",
      "\n",
      "Search results: Title: Venue - World Agri-Tech Innovation Summit, San Francisco\n",
      "Link: https://worldagritechusa.com/venue/\n",
      "Snippet: SUMMIT VENUE: MARRIOTT MARQUIS. World Agri-Tech is returning to California, the global epicenter for innovation discovery and investment.\n",
      "---\n",
      "Title: TECHSPO San Francisco 2025\n",
      "Link: https://techsposanfrancisco.com/\n",
      "Snippet: Join us on July 21 – 22, 2025, at the Grand Hyatt Hotel at SFO in San Francisco for 2 unforgettable days of technology exploration.\n",
      "---\n",
      "Title: World Agri-Tech Innovation Summit, March 11-12, 2025\n",
      "Link: https://worldagritechusa.com/\n",
      "Snippet: The World Agri-Tech Innovation Summit is the stand out event with curated leaders, innovators and investors from across the AgTech landscape.\n",
      "---\n",
      "Title: Venue: TECHSPO San Francisco 2025 · Technology Expo · July 21\n",
      "Link: https://techsposanfrancisco.com/venue/\n",
      "Snippet: The Grand Hyatt Hotel at SFO is a premier conference center venue where TECHSPO San Francisco 2025 will be held.\n",
      "---\n",
      "Title: Top US Tech Conference Cities - Edin Studios\n",
      "Link: https://edinstudios.com/top-us-tech-conference-cities/\n",
      "Snippet: San Francisco, known for its tech and innovation, is a major hub for tech conferences that draw crowds from around the globe. Home to Silicon Valley and tech ...\n",
      "---\n",
      "Title: Home: Future Food-Tech San Francisco, March 19-20, 2026\n",
      "Link: https://futurefoodtechsf.com/\n",
      "Snippet: Future Food-Tech San Francisco: where food brands, innovators, investors & retailers explore solutions to tackle food insecurity.\n",
      "---\n",
      "Title: Tech Week 2025\n",
      "Link: https://www.tech-week.com/\n",
      "Snippet: Tech Week will return to NY, SF and LA during the following dates: New York (June 2-8), San Francisco (October 6-12), Los Angeles (October 13-19).\n",
      "---\n",
      "Title: Tech. Innovation Conference 2035 | MCS2025\n",
      "Link: https://www.mcs2025.com/event-details/tech-innovation-conference-2035\n",
      "Snippet: Time & Location. 01 Aug 2035, 10:00 – 18:00. Conference Center, 500 Terry Francois St. San Francisco, CA 94158. About the conference. I'm an event description ...\n",
      "---\n",
      "Title: Top Tech Conferences in San Francisco 2025 - BigEvent\n",
      "Link: https://bigevent.io/tech-conferences-san-francisco/\n",
      "Snippet: World Agri-Tech Innovation Summit San Francisco brings together global agribusiness leaders to explore cutting-edge technologies in sustainable farming. ...\n",
      "---\n",
      "Title: 2025 USA | RSA Conference\n",
      "Link: https://www.rsaconference.com/usa\n",
      "Snippet: San Francisco. Moscone Center | April 28 - May 1, 2025. Thank You for ... It's your always-on connection to the innovation, intelligence, and community that make ...\n",
      "---\n",
      "\n",
      "\u001b[00m\n",
      "\u001b[32;1m\u001b[1;3mThought: I have gathered some information about the event and the criteria for the venue, but I need to dig deeper to find the perfect venue.\n",
      "\n",
      "Action: Ask question to co-worker\n",
      "\n",
      "Action Input: {\"coworker\": \"Logistics Manager\", \"question\": \"What are the typical requirements for a venue for a Tech Innovation Conference in San Francisco?\", \"context\": \"I've gathered some information about the event and the criteria for the venue, but I need to know more about the logistics and requirements for a successful event.\"}\n",
      "\u001b[0m\n",
      "\n",
      "\u001b[1m> Entering new CrewAgentExecutor chain...\u001b[0m\n",
      "\u001b[32;1m\u001b[1;3mThought: I need to gather more information about the typical requirements for a venue for a Tech Innovation Conference in San Francisco.\n",
      "\n",
      "Action: Search the internet\n",
      "\n",
      "Action Input: {'string': 'typical requirements for a venue for a Tech Innovation Conference in San Francisco'}\n",
      "\u001b[0m\u001b[91m \n",
      "\n",
      "I encountered an error while trying to use the tool. This was the error: SerperDevTool._run() missing 1 required positional argument: 'search_query'.\n",
      " Tool Search the internet accepts these inputs: Search the internet(search_query: 'string') - A tool that can be used to semantic search a query from a txt's content.\n",
      "\u001b[00m\n",
      "\u001b[32;1m\u001b[1;3mThought: I need to gather more information about the typical requirements for a venue for a Tech Innovation Conference in San Francisco.\n",
      "\n",
      "Action: Search the internet\n",
      "\n",
      "Action Input: {'search_query': 'typical requirements for a venue for a Tech Innovation Conference in San Francisco'}\n",
      "\u001b[0m\u001b[95m \n",
      "\n",
      "\n",
      "Search results: Title: 2025 Guide to Corporate Event Planning in San Francisco\n",
      "Link: https://abcey.com/2025-guide-to-corporate-event-planning-in-san-francisco-abcey-events/\n",
      "Snippet: Modern, expansive venue with panoramic bay views. Versatile space ideal for large-scale conferences, product launches and corporate celebrations.\n",
      "---\n",
      "Title: How to Plan a San Francisco Tech Event That Stands Out\n",
      "Link: https://auriceguyton.com/how-to-plan-a-tech-event-that-stands-out-in-the-san-francisco-bay-area/\n",
      "Snippet: First and foremost, consider the size. You want a venue that fits your crowd comfortably— not too cramped, not too spacious. Next up, tech amenities. This is ...\n",
      "---\n",
      "Title: San Francisco's Most Unique Conference and Meeting Venues\n",
      "Link: https://www.perfectvenue.com/post/san-francisco-conference-and-meeting-venues\n",
      "Snippet: One of the top criteria for the perfect venue is that there's enough space to comfortably accommodate event attendees, as well as guest speakers ...\n",
      "---\n",
      "Title: Venue - World Agri-Tech Innovation Summit, San Francisco\n",
      "Link: https://worldagritechusa.com/venue/\n",
      "Snippet: Better accommodation rates: No clash with other major events across San Francisco means you'll benefit from lower rates across the city. Use our exclusive ...\n",
      "---\n",
      "Title: The Ultimate Guide to Corporate Event Venues in San Francisco\n",
      "Link: https://westwaveav.com/the-ultimate-guide-to-corporate-event-venues-in-san-francisco/\n",
      "Snippet: Discover The Ultimate Guide to Corporate Event Venues in San Francisco—top locations, planning tips, and expert advice to host unforgettable ...\n",
      "---\n",
      "Title: How do I plan a Successful Tech Industry Conference? - South San ...\n",
      "Link: https://ssfconf.com/how-do-i-plan-a-successful-tech-industry-conference/\n",
      "Snippet: Determine Goals For your Tech Conference · Identify your Target Audience · Choose The Right Venue for a Tech Conference · Set a Budget.\n",
      "---\n",
      "Title: 2025 USA | RSA Conference\n",
      "Link: https://www.rsaconference.com/usa\n",
      "Snippet: It's your always-on connection to the innovation, intelligence, and community that make RSAC ™ Conference unforgettable. JOIN TODAY!\n",
      "---\n",
      "Title: Tech Requirements for Top Event Venues in Major US Cities\n",
      "Link: https://rentforevent.com/blog/tech-requirements-for-top-event-venues-in-major-us-cities\n",
      "Snippet: Learn exactly what tech requirements to look for in top event venues across key US cities. We'll cover everything from essential connectivity to advanced AV ...\n",
      "---\n",
      "Title: Startup Grind Global Conference 2025 Event guide - Vendelux\n",
      "Link: https://vendelux.com/event-guides/startup-grind-global-conference-2025/\n",
      "Snippet: Get ready for Startup Grind Global 2025 with this full event guide—key dates, speakers, sessions, networking tips, and what to expect.\n",
      "---\n",
      "Title: A Guide to Tech Conferences: How to Find and Attend the Best Events\n",
      "Link: https://codesubmit.io/blog/tech-conferences-guide/\n",
      "Snippet: We've compiled a guide for what to consider when deciding to attend a new tech conference, key factors for picking a conference that's right for you,\n",
      "---\n",
      "\n",
      "\u001b[00m\n",
      "\u001b[32;1m\u001b[1;3mThought: I need to gather more information about the typical requirements for a venue for a Tech Innovation Conference in San Francisco.\n",
      "\n",
      "Action: Search the internet\n",
      "\n",
      "Action Input: {'search_query': 'typical requirements for a venue for a Tech Innovation Conference in San Francisco'}\n",
      "\u001b[0m\u001b[95m \n",
      "\n",
      "I tried reusing the same input, I must stop using this action input. I'll try something else instead.\n",
      "\n",
      "\n",
      "\u001b[00m\n",
      "\u001b[32;1m\u001b[1;3mThought: I need to gather more information about the typical requirements for a venue for a Tech Innovation Conference in San Francisco.\n",
      "\n",
      "Action: Read website content\n",
      "\n",
      "Action Input: {'website_url': 'https://www.perfectvenue.com/post/san-francisco-conference-and-meeting-venues'}\n",
      "\u001b[0m\u001b[95m \n",
      "\n",
      "San Francisco’s Most Unique Conference and Meeting Venues\n",
      "Find the perfect venue for your next event! 🎉Find your perfect venue! 🎉Find a VenueAI ReplyFeaturesPricingTestimonialsLog InWatch a DemoSign UpBest Event SpacesSan Francisco’s Most Unique Conference and Meeting VenuesPosted on February 14, 2025Are you an event planner searching for the best San Francisco conference and meeting venues? You’ll soon discover that San Francisco has many venues, suitable for all types of events, including corporate events. But when you’re pressed for time, and tasked with finding something truly special, it helps to have some expert guidance. That's why we’ve put together this guide to San Francisco’s most unique conference and meeting venues. No matter the size of the meeting space, the number of conference rooms, or the style of event space you’re looking for, you’ll find it here. 1. Green’s RestaurantMany of San Francisco's conference and meeting venues offer exceptional versatility or spectacular views. Some also have great food. Green’s Restaurant on Marina Boulevard has it all. This light and airy space with its floor-to-ceiling windows has the modern amenities you need, including high-speed Wi-Fi and audiovisual equipment. The Bay Room seats 50, the Outdoor Pavilion seats 70, and the Main Dining Room seats 100. But you can seat up to 200 people with the Full Buyout option. Modern amenities, including high-speed Wi-Fi, and audiovisual equipment, are available for all your business event needs. Event attendees will be inspired by views of the nearby Marina District and Golden Gate Bridge, while networking, brainstorming, collaborating, and more.Of course, all of those business talks can work up an appetite. Green’s offers healthy but delicious meals using fresh, locally sourced ingredients, as well as a range of cocktails. Alcohol-free wines are also available, so one needs to feel left out. What the Green’s Restaurant Venue is Great ForYour client can show their business associates their dedication to going green, at Green’s, as the restaurant specializes in gourmet vegetarian cuisine. This makes it the ideal choice for business events where one or more attendees are vegetarian or vegan, or for those who prefer a healthy lifestyle.2. Osha Thai EmbarcaderoThe Embarcadero Center is among the most popular San Francisco conference and meeting venues. And at 4 Embarcadero Center, you’ll find Osha Thai Embarcadero, one of the Bay Area’s most popular Thai cuisine options. This critically acclaimed and award-winning venue offers a Full Main Dining Room Buyout with room for 130 seated or 200 standing guests. It also offers the Private Golden Room with room for 70 seated or 100 standing. Add the private lounge option for even more space. It’s not that difficult to find San Francisco conference and meeting venues for larger groups. But what if you need something for smaller business lunches? Osha Thai has the answer, with its Private Silver Room that seats 14 people.What the Osha Thai Venue is Great ForChoosing venues for corporate clients goes beyond finding spaces with Wi-Fi and audiovisual tech. Great ideas often flow after great food, and Osha Thai can’t be beaten. So, if your clients have expressed a love of Asian food, Osha Thai is the top choice for business lunches or meals between conference sessions. 3. Shack 15Shack 15 in the Ferry Building is one of those San Francisco conference and meeting venues known for inspiring big ideas. Choose between eight spaces, for everything from informal networking and meetings to large-scale business presentations and conferences.Shack 15 doesn’t just offer elegant interiors with magnificent Bay views. It also has all the space you need. It can accommodate up to 175 standing attendees at the Salon and Kilden/Finstua spaces, up to 275 standing in the Gallery, and up to 400 with a Lounge full buyout. And don't worry about what to feed those hungry business people. Shack 15 has it covered, with breakfast, lunch, and dinner options as well as platters, deli-style sandwiches, and coffee. A limited selection of wine and beer are available, as well as non-alcoholic options.What the Shack 15 Venue is Great ForThe best San Francisco conference and meeting venues make corporate event planning easier. And Shack 15 makes corporate event planning as simple as possible. The venue can provide furnishings, internet access, audio-visual equipment, Zoom or Teams integration, and a streaming package. You can even order decorative plants for an energizing green touch. 4. Gott’s Gott’s is a venue in the landmark San Francisco Ferry Building, conveniently located near the Embarcadero Center and San Fran’s financial district.The Dining Room seats 24, while the Bay View patio offers outdoor seating for 32 people. Need to seat more people than that? No problem. The City View Patio seats up to 184 people. Alternatively, do a Full Restaurant Buyout to accommodate up to 300 seated or 450 standing. What the Gott’s Venue is Great ForHere, business meeting attendees can enjoy the convenience of a meeting space with ferry transportation to and from meetings. They’ll also enjoy views of downtown San Francisco and San Francisco Bay, great wine and beer, and tasty snacks.5. Webster HallLooking for a San Francisco conference and meeting venue that is steeped in history? You’ve got it, in Webster Hall, a building on Sacramento Street dating back to 1912 and originally funded by the Cooper Medical College of San Francisco. Merged with Stanford University’s School of Medicine until 1956, it was dedicated to significant contributors to San Francisco’s medical history in 1970. Eight years later, it was designated as a historic landmark and later served a new purpose as a medical library. Today, Webster Hall is a unique event venue that comfortably seats up to 150 people. The high ceilings, stunning arched windows, and iconic lighting provide an elegant backdrop that will add a touch of elegance to any corporate event.What the Webster Hall Venue is Great ForAre you planning a conference or series of meetings for clients in the medical field or business related to medicine in some way?  This versatile event space, with its ties to San Francisco’s medical history, is the perfect venue for such an event. Its lofty and airy interiors also make it suitable for any corporate event that requires lots of light and space.6. Great American Music HallWhether you’re looking for the perfect space for a corporate event or its after-party, the Great American Music Hall on O'Farrell Street has what you need. This is one of the most unique and versatile San Francisco conference and meeting venues. It offers high-speed internet connectivity, top-quality audiovisual equipment, in-house catering, and even live entertainment options. The luxurious interiors house up to 400 seated or 600 standing guests. What the Great American Music Hall Venue is Great ForConventional San Francisco conference and meeting venues typically have the tech needed for conferencing and collaboration. But they often lack the high-end style touches that make for a memorable event. Are you planning a corporate awards ceremony, a charitable event, or a premier gala to celebrate a product launch? The Great American Music Hall offers the space, and the splendor, such premier corporate events demand.7. Lazy BearIs your search for San Francisco venues with great food and less formal meeting rooms proving fruitless? Don’t get lazy, just leave it all to Lazy Bear. This venue may be the solution to your problems. The communal dining format with its extended dining tables in the Dining Room space lends itself well to business meetings of up to 30 people. The cozy and comfortable Mezzanine nook seats up to 14 people for informal collaboration and networking sessions. Event services like audiovisual equipment and photographers are available.Lazy Bear is a great choice for sit-down dinner parties after those intensive meetings, too. And with the Full Restaurant option, you’ll have space for up to 56 seated or 90 standing guests. Keep your more demanding clients happy with Lazy Bear’s bespoke dishes or exclusive caviar offerings.What the Lazy Bear Venue is Great ForOne of the things to consider when planning an event is who your target audience is. At Lazy Bear, there’s so much more than great food and ambiance on offer. This venue offers the extra touches that your high-end business clients want. Valet parking gives their guests more convenience. Plus, your clients can provide their executive guests with Lazy Bear’s range of customized parting gifts, from baked goods to personalized Opinel knives. This is a choice that will help you and your clients make a lasting impression.8. San Francisco Wine SchoolThe San Francisco Wine School is an education and event center on the top floor of the historic Fraternal Hall on Grand Avenue in South San Francisco. With its high ceilings and tall windows, this venue feels light and spacious. The venue has the space for business meetings of all sizes. Room 1 seats 34 people, Room 2 seats 59, and Room 3 seats 51. But you can hire rooms 1 and 2, or 2 and 3, together, or do a full venue buyout. The latter option seats 130 people. Conferencing is made easy with a hybrid room/Zoom AV system, multiple mobile 80\" monitors, and AI tracking cameras. After the meetings or conferencing calls, schedule a wine tasting. And with this venue’s resident chef and multiple catering partners, attendees can be well-fed, too. What the San Francisco Wine School is Great ForSan Francisco offers unique team-building activities, but you can also customize corporate team-building events. Wine tasting events for after your conferences can also be hosted offsite at your venue, and virtual events are available.9. The City Club of San FranciscoHead to the 10th floor at 155 Sansome Street and you’ll find The City Club of San Francisco. This unique venue is ideal for business meetings and corporate events of all types and sizes. There are seven different event spaces to choose from. With its art deco design details and city views, this elegant venue is the perfect choice for your upcoming events. The Deco rooms have room for 16 seated or 32 standing, while the Deco Parlor has room for 40 seated or 60 standing guests. For larger events, the Penthouse has space for 80 seated or 120 standing. The Library Room and Grand Salon are suitable for groups of 100 or 150 people, respectively. Need even more space? The Main Dining Room accommodates 220 seated, or 300 standing people, while the Cafe space accommodates 250 seated or 300 standing. What The City Club of San Francisco Venue is Great ForOne of the top criteria for the perfect venue is that there’s enough space to comfortably accommodate event attendees, as well as guest speakers, tech setup, etc. The City Club of San Francisco fits the bill, with multiple event spaces for business meetings and corporate events of all sizes.10. The Box SFNeed something a little different for your upcoming business meeting events? Consider The Box SF, a historic four-story building on Howard Street. This one-stop shop for historic 1850s-style memorabilia also offers multiple event spaces for business meetings and workshops. The venue has many gems in store for your business clients, including the country’s oldest and longest meeting and dining table.Small groups of eight can be accommodated in the Speakeasy style Sipping Room, while the Willy Suite has room for 10, and the Webster Suite has space for 14 people. For meetings of up to 30 people, choose the Buddy Suite, or the Gate Room & Top Floor space for 50 seated or 80 standing people.Projectors, projection screens, flat screen monitors, and other equipment are available at a fee for business presentations. A bar and catering options are available. What The Box SF is Great ForThe Box is the ideal venue for clients involved in publishing and media. They’ll love The Pressroom and Mercantile space on the ground floor. The working press room boasts original restored printing presses dating back to 1838. The historic printing shop and 1850s mercantile can be rented for video shoots, too. Tips for Planning a Conference or Meeting in San FranciscoPlanning a conference or meeting in San Fran goes beyond choosing the best venue. Here are our top tips:Celebrate San Fran’s History and Diversity San Francisco is a culturally diverse city with a legacy of artistic expression and Bohemian culture alongside some of the greatest tech innovations. So, if you’re looking for guest speakers at a conference, invite people from the local tech sector and/or local artists to participate. If you’re using a venue that offers meals or catering, choose one that exemplifies San Fran’s rich cultural diversity in their cuisine. This is an opportunity to introduce attendees to other cultures and celebrate diversity within their organization.  Be Open to Multi-Purpose Venues There are many venues that, while not intended solely for corporate use, have meeting rooms or conferencing setups. In between the meetings or when the conference is over, attendees can then move to the other spaces for food and drinks.With clever planning, many venues ordinarily used for private events can be used for meetings, conferences, and other corporate events. Restaurants and social clubs already have the space and tables and chairs you’ll need for meetings. Lounge areas can be used for informal networking.You’ll find the perfect venue for every occasion on the Perfect Venue Marketplace. Consider the Needs of Attendees From Out of TownAre you planning a large conference for a company with nationwide branches? Attendees who don’t live nearby will have to travel and be accommodated locally while attending the San Fran meetings. In such cases, a hotel venue with corporate event facilities may be best.Organizing car hire is common with large conferences. But navigating San Francisco’s hilly terrain and steep streets can be very challenging for non-locals. Make their lives easier with a guide to Bay Area Rapid Transit (BART) trains, buses and streetcars (Muni Metro), and ferries. Find the Perfect San Fran Venue on Perfect Venue MarketplaceThe City by the Bay has countless restaurants, hotels, and other venues for all types of events, from large corporate conferences to small business meetings. With so much choice, it can be difficult to find the right venue quickly while planning such events. But not when you use Perfect Venue Marketplace. We make it easy to choose the best conference and meeting venues every time. Just enter your search criteria — location, number of attendees, and type of event, and choose from our wide selection of unique and top-rated venues. Your search for the perfect venue starts, and ends, here.Have thoughts on the article? Feel free to email us at hello@perfectvenue.com - we'd love to hear it!SkylerAccount ExecutiveI have been in hospitality for over a decade, most recently as the Events Sales Manager at a 3-star Michelin restaurant in San Francisco. Originally from Sonoma, CA, I fell in love with the food and beverage industry and became a certified sommelier. Previously, I was the Event Coordinator at Gundlach Bundschu Winery in Sonoma.TagsRestaurantsPrivate EventsAll VenuesReady to try Perfect Venue? Get started for free today!Sign up for FREEBook a DemoInfoBook a DemoFeaturesPricingIndustriesFREE BEO TemplateIntegrations & PartnershipsCareers (we're hiring!)ResourcesTestimonialsReviews on G2Compare to TripleseatCompare to Planning PodCompare to ToastCompare to HoneybookWebinarsEvent Sales Job BoardBlogContactHelp CenterContact Us(415) 906-4190 San Francisco, CATerms of Service Privacy Policy\n",
      "\u001b[00m\n"
     ]
    }
   ],
   "source": [
    "\n",
    "result = event_management_crew.kickoff(inputs=event_details)"
   ]
  },
  {
   "cell_type": "code",
   "execution_count": null,
   "metadata": {},
   "outputs": [
    {
     "name": "stdout",
     "output_type": "stream",
     "text": [
      "{'address': '', 'booking_status': '', 'capacity': 0, 'name': 'Human'}\n"
     ]
    }
   ],
   "source": [
    "import json\n",
    "from pprint import pprint\n",
    "\n",
    "with open('venue_details.json') as f:\n",
    "   data = json.load(f)\n",
    "\n",
    "pprint(data)"
   ]
  },
  {
   "cell_type": "code",
   "execution_count": null,
   "metadata": {},
   "outputs": [],
   "source": []
  },
  {
   "cell_type": "code",
   "execution_count": null,
   "metadata": {},
   "outputs": [],
   "source": []
  },
  {
   "cell_type": "code",
   "execution_count": null,
   "metadata": {},
   "outputs": [],
   "source": []
  }
 ],
 "metadata": {
  "kernelspec": {
   "display_name": "Agentic_RAG-pWWUrD3e",
   "language": "python",
   "name": "python3"
  },
  "language_info": {
   "codemirror_mode": {
    "name": "ipython",
    "version": 3
   },
   "file_extension": ".py",
   "mimetype": "text/x-python",
   "name": "python",
   "nbconvert_exporter": "python",
   "pygments_lexer": "ipython3",
   "version": "3.10.16"
  }
 },
 "nbformat": 4,
 "nbformat_minor": 4
}

{
 "cells": [
  {
   "cell_type": "code",
   "execution_count": 1,
   "id": "2adfbad9",
   "metadata": {},
   "outputs": [
    {
     "name": "stdout",
     "output_type": "stream",
     "text": [
      "Using Tool: Read website content\n",
      "Example Domain\n",
      "Example Domain\n",
      "This domain is for use in illustrative examples in documents. You may use this\n",
      " domain in literature without prior coordination or asking for permission.\n",
      "More information...\n"
     ]
    }
   ],
   "source": [
    "from crewai_tools import ScrapeWebsiteTool\n",
    "\n",
    "# To enable scrapping any website it finds during it's execution\n",
    "tool = ScrapeWebsiteTool()\n",
    "\n",
    "# Initialize the tool with the website URL, \n",
    "# so the agent can only scrap the content of the specified website\n",
    "tool = ScrapeWebsiteTool(website_url='https://www.example.com')\n",
    "\n",
    "# Extract the text from the site\n",
    "text = tool.run()\n",
    "print(text)"
   ]
  },
  {
   "cell_type": "code",
   "execution_count": null,
   "id": "95a3f1e6",
   "metadata": {},
   "outputs": [],
   "source": []
  }
 ],
 "metadata": {
  "kernelspec": {
   "display_name": "Agentic_RAG-pWWUrD3e",
   "language": "python",
   "name": "python3"
  },
  "language_info": {
   "codemirror_mode": {
    "name": "ipython",
    "version": 3
   },
   "file_extension": ".py",
   "mimetype": "text/x-python",
   "name": "python",
   "nbconvert_exporter": "python",
   "pygments_lexer": "ipython3",
   "version": "3.10.16"
  }
 },
 "nbformat": 4,
 "nbformat_minor": 5
}

{
 "cells": [
  {
   "cell_type": "code",
   "execution_count": 1,
   "metadata": {},
   "outputs": [],
   "source": [
    "import tensorflow as tf\n",
    "\n",
    "# Load and preprocess the MNIST dataset\n",
    "(x_train, y_train), (x_test, y_test) = tf.keras.datasets.mnist.load_data()\n",
    "x_train, x_test = x_train / 255.0, x_test / 255.0  # Normalize to [0, 1]\n",
    "x_train = x_train.reshape(-1, 28 * 28)  # Flatten images\n",
    "x_test = x_test.reshape(-1, 28 * 28)\n",
    "\n"
   ]
  },
  {
   "cell_type": "code",
   "execution_count": 2,
   "metadata": {},
   "outputs": [],
   "source": [
    "import numpy as np\n",
    "\n",
    "def exclude_digits(x_data, y_data, excluded_digits):\n",
    "    mask = ~np.isin(y_data, excluded_digits)  # Create a mask for non-excluded digits\n",
    "    x_filtered = x_data[mask]  # Filter input data\n",
    "    y_filtered = y_data[mask]  # Filter labels\n",
    "    return x_filtered, y_filtered"
   ]
  },
  {
   "cell_type": "code",
   "execution_count": 3,
   "metadata": {},
   "outputs": [],
   "source": [
    "# Example usage:\n",
    "excluded_digits = [0, 1,2]  # Exclude digits 0 and 1\n",
    "x_train_filtered, y_train_filtered = exclude_digits(x_train, y_train, excluded_digits)"
   ]
  },
  {
   "cell_type": "code",
   "execution_count": 4,
   "metadata": {},
   "outputs": [
    {
     "data": {
      "text/plain": [
       "{3, 4, 5, 6, 7, 8, 9}"
      ]
     },
     "execution_count": 4,
     "metadata": {},
     "output_type": "execute_result"
    }
   ],
   "source": [
    "set(y_train_filtered)"
   ]
  },
  {
   "cell_type": "code",
   "execution_count": 5,
   "metadata": {},
   "outputs": [],
   "source": [
    "class SimpleNN(tf.keras.Model):\n",
    "    def __init__(self):\n",
    "        super(SimpleNN, self).__init__()\n",
    "        self.dense1 = tf.keras.layers.Dense(128, activation='relu')\n",
    "        self.dense2 = tf.keras.layers.Dense(10, activation='softmax')\n",
    "\n",
    "    def call(self, inputs):\n",
    "        x = self.dense1(inputs)\n",
    "        return self.dense2(x)"
   ]
  },
  {
   "cell_type": "code",
   "execution_count": null,
   "metadata": {},
   "outputs": [],
   "source": [
    "\n",
    "\n"
   ]
  },
  {
   "cell_type": "code",
   "execution_count": 6,
   "metadata": {},
   "outputs": [],
   "source": [
    "def train_model(model,pth_x,pth_y):\n",
    "    batch_size = 64\n",
    "    epochs = 5\n",
    "    num_batches = len(pth_x) // batch_size\n",
    "    optimizer = tf.keras.optimizers.Adam(learning_rate=0.001)\n",
    "    loss_fn = tf.keras.losses.CategoricalCrossentropy()\n",
    "\n",
    "    # Convert labels to one-hot encoding\n",
    "    pth_y_onehot = tf.keras.utils.to_categorical(pth_y, num_classes=10)\n",
    "\n",
    "    \n",
    "    for epoch in range(epochs):\n",
    "        print(f\"Epoch {epoch + 1}/{epochs}\")\n",
    "        for i in range(num_batches):\n",
    "            # Get a batch of data\n",
    "            start = i * batch_size\n",
    "            end = start + batch_size\n",
    "            x_batch = pth_x[start:end]\n",
    "            y_batch = pth_y_onehot[start:end]\n",
    "            \n",
    "            with tf.GradientTape() as tape:\n",
    "                predictions = model(x_batch, training=True)  # Forward pass\n",
    "                loss = loss_fn(y_batch, predictions)        # Compute loss\n",
    "            \n",
    "\n",
    "            gradients = tape.gradient(loss, model.trainable_variables) \n",
    "        \n",
    "            optimizer.apply_gradients(zip(gradients, model.trainable_variables))  # Update weights\n",
    "\n",
    "            if i % 200 == 0:  # Print progress every 200 batches\n",
    "                print(f\"Batch {i}/{num_batches}, Loss: {loss.numpy():.4f}\")"
   ]
  },
  {
   "cell_type": "code",
   "execution_count": 7,
   "metadata": {},
   "outputs": [
    {
     "name": "stdout",
     "output_type": "stream",
     "text": [
      "y_train_1 :  {0, 2, 4, 5, 6, 8, 9}\n",
      "40862\n"
     ]
    }
   ],
   "source": [
    "x_train_1, y_train_1  = exclude_digits(x_train, y_train, excluded_digits=[1, 3, 7])\n",
    "print(\"y_train_1 : \",set(y_train_1))\n",
    "print(len(y_train_1))"
   ]
  },
  {
   "cell_type": "code",
   "execution_count": 8,
   "metadata": {},
   "outputs": [
    {
     "name": "stdout",
     "output_type": "stream",
     "text": [
      "y_train_2 :  {0, 1, 3, 4, 6, 7, 9}\n",
      "42770\n"
     ]
    }
   ],
   "source": [
    "x_train_2, y_train_2 = exclude_digits(x_train, y_train, excluded_digits=[2, 5, 8])\n",
    "print(\"y_train_2 : \",set(y_train_2))\n",
    "print(len(y_train_2))"
   ]
  },
  {
   "cell_type": "code",
   "execution_count": 9,
   "metadata": {},
   "outputs": [
    {
     "name": "stdout",
     "output_type": "stream",
     "text": [
      "y_train_3 :  {0, 1, 2, 3, 5, 7, 8}\n",
      "42291\n"
     ]
    }
   ],
   "source": [
    "x_train_3, y_train_3 = exclude_digits(x_train, y_train, excluded_digits=[4, 6, 9])\n",
    "print(\"y_train_3 : \",set(y_train_3))\n",
    "print(len(y_train_3))"
   ]
  },
  {
   "cell_type": "code",
   "execution_count": 10,
   "metadata": {},
   "outputs": [
    {
     "name": "stdout",
     "output_type": "stream",
     "text": [
      "Epoch 1/5\n"
     ]
    },
    {
     "name": "stderr",
     "output_type": "stream",
     "text": [
      "2025-06-06 23:25:11.247042: I metal_plugin/src/device/metal_device.cc:1154] Metal device set to: Apple M3 Pro\n",
      "2025-06-06 23:25:11.247076: I metal_plugin/src/device/metal_device.cc:296] systemMemory: 18.00 GB\n",
      "2025-06-06 23:25:11.247079: I metal_plugin/src/device/metal_device.cc:313] maxCacheSize: 6.00 GB\n",
      "WARNING: All log messages before absl::InitializeLog() is called are written to STDERR\n",
      "I0000 00:00:1749227111.247090 9904212 pluggable_device_factory.cc:305] Could not identify NUMA node of platform GPU ID 0, defaulting to 0. Your kernel may not have been built with NUMA support.\n",
      "I0000 00:00:1749227111.247108 9904212 pluggable_device_factory.cc:271] Created TensorFlow device (/job:localhost/replica:0/task:0/device:GPU:0 with 0 MB memory) -> physical PluggableDevice (device: 0, name: METAL, pci bus id: <undefined>)\n"
     ]
    },
    {
     "name": "stdout",
     "output_type": "stream",
     "text": [
      "Batch 0/638, Loss: 2.6194\n",
      "Batch 200/638, Loss: 0.0854\n",
      "Batch 400/638, Loss: 0.2455\n",
      "Batch 600/638, Loss: 0.1421\n",
      "Epoch 2/5\n",
      "Batch 0/638, Loss: 0.1355\n",
      "Batch 200/638, Loss: 0.0215\n",
      "Batch 400/638, Loss: 0.1406\n",
      "Batch 600/638, Loss: 0.0890\n",
      "Epoch 3/5\n",
      "Batch 0/638, Loss: 0.1148\n",
      "Batch 200/638, Loss: 0.0142\n",
      "Batch 400/638, Loss: 0.0880\n",
      "Batch 600/638, Loss: 0.0725\n",
      "Epoch 4/5\n",
      "Batch 0/638, Loss: 0.0962\n",
      "Batch 200/638, Loss: 0.0124\n",
      "Batch 400/638, Loss: 0.0612\n",
      "Batch 600/638, Loss: 0.0613\n",
      "Epoch 5/5\n",
      "Batch 0/638, Loss: 0.0786\n",
      "Batch 200/638, Loss: 0.0098\n",
      "Batch 400/638, Loss: 0.0391\n",
      "Batch 600/638, Loss: 0.0521\n"
     ]
    }
   ],
   "source": [
    "model1 = SimpleNN()\n",
    "train_model(model1, x_train_1, y_train_1)\n"
   ]
  },
  {
   "cell_type": "code",
   "execution_count": 11,
   "metadata": {},
   "outputs": [
    {
     "name": "stdout",
     "output_type": "stream",
     "text": [
      "Epoch 1/5\n",
      "Batch 0/668, Loss: 6.2816\n",
      "Batch 200/668, Loss: 0.1218\n",
      "Batch 400/668, Loss: 0.1146\n",
      "Batch 600/668, Loss: 0.0341\n",
      "Epoch 2/5\n",
      "Batch 0/668, Loss: 0.0377\n",
      "Batch 200/668, Loss: 0.1029\n",
      "Batch 400/668, Loss: 0.0500\n",
      "Batch 600/668, Loss: 0.0220\n",
      "Epoch 3/5\n",
      "Batch 0/668, Loss: 0.0258\n",
      "Batch 200/668, Loss: 0.0806\n",
      "Batch 400/668, Loss: 0.0289\n",
      "Batch 600/668, Loss: 0.0158\n",
      "Epoch 4/5\n",
      "Batch 0/668, Loss: 0.0190\n",
      "Batch 200/668, Loss: 0.0623\n",
      "Batch 400/668, Loss: 0.0193\n",
      "Batch 600/668, Loss: 0.0123\n",
      "Epoch 5/5\n",
      "Batch 0/668, Loss: 0.0124\n",
      "Batch 200/668, Loss: 0.0374\n",
      "Batch 400/668, Loss: 0.0129\n",
      "Batch 600/668, Loss: 0.0093\n"
     ]
    }
   ],
   "source": [
    "model2 = SimpleNN()\n",
    "train_model(model1, x_train_2, y_train_2)"
   ]
  },
  {
   "cell_type": "code",
   "execution_count": 12,
   "metadata": {},
   "outputs": [
    {
     "name": "stdout",
     "output_type": "stream",
     "text": [
      "Epoch 1/5\n",
      "Batch 0/660, Loss: 2.3093\n",
      "Batch 200/660, Loss: 0.1198\n",
      "Batch 400/660, Loss: 0.1958\n",
      "Batch 600/660, Loss: 0.2084\n",
      "Epoch 2/5\n",
      "Batch 0/660, Loss: 0.0529\n",
      "Batch 200/660, Loss: 0.0457\n",
      "Batch 400/660, Loss: 0.0988\n",
      "Batch 600/660, Loss: 0.1090\n",
      "Epoch 3/5\n",
      "Batch 0/660, Loss: 0.0222\n",
      "Batch 200/660, Loss: 0.0238\n",
      "Batch 400/660, Loss: 0.0551\n",
      "Batch 600/660, Loss: 0.0645\n",
      "Epoch 4/5\n",
      "Batch 0/660, Loss: 0.0140\n",
      "Batch 200/660, Loss: 0.0168\n",
      "Batch 400/660, Loss: 0.0347\n",
      "Batch 600/660, Loss: 0.0420\n",
      "Epoch 5/5\n",
      "Batch 0/660, Loss: 0.0105\n",
      "Batch 200/660, Loss: 0.0135\n",
      "Batch 400/660, Loss: 0.0270\n",
      "Batch 600/660, Loss: 0.0252\n"
     ]
    }
   ],
   "source": [
    "model3 = SimpleNN()\n",
    "train_model(model3, x_train_3, y_train_3)"
   ]
  },
  {
   "cell_type": "code",
   "execution_count": 13,
   "metadata": {},
   "outputs": [],
   "source": [
    "def evaluate_model(model,x_test,y_test):\n",
    "    loss_fn = tf.keras.losses.CategoricalCrossentropy()\n",
    "\n",
    "    y_test_onehot = tf.keras.utils.to_categorical(y_test, num_classes=10)\n",
    "\n",
    "    # Evaluate the model\n",
    "    test_loss = loss_fn(y_test_onehot, model(x_test))\n",
    "    test_accuracy = tf.keras.metrics.categorical_accuracy(y_test_onehot, model(x_test))\n",
    "    return test_loss, test_accuracy"
   ]
  },
  {
   "cell_type": "code",
   "execution_count": 14,
   "metadata": {},
   "outputs": [
    {
     "name": "stdout",
     "output_type": "stream",
     "text": [
      "Test Loss: 4.7512, Test Accuracy: 0.5730\n"
     ]
    }
   ],
   "source": [
    "x_test_1, y_test_1  = exclude_digits(x_test, y_test, excluded_digits=[1, 3, 7])\n",
    "test_loss_1 , test_accuracy_1 = evaluate_model(model1,x_test_1,y_test_1)\n",
    "\n",
    "print(f\"Test Loss: {test_loss_1.numpy():.4f}, Test Accuracy: {tf.reduce_mean(test_accuracy_1).numpy():.4f}\")"
   ]
  },
  {
   "cell_type": "code",
   "execution_count": 15,
   "metadata": {},
   "outputs": [
    {
     "name": "stdout",
     "output_type": "stream",
     "text": [
      "Test Loss: 4.7512, Test Accuracy: 0.9842\n"
     ]
    }
   ],
   "source": [
    "x_test_2, y_test_2  = exclude_digits(x_test, y_test, excluded_digits=[2, 5, 8])\n",
    "test_loss_2 , test_accuracy_2 = evaluate_model(model1,x_test_2,y_test_2)\n",
    "\n",
    "print(f\"Test Loss: {test_loss_1.numpy():.4f}, Test Accuracy: {tf.reduce_mean(test_accuracy_2).numpy():.4f}\")"
   ]
  },
  {
   "cell_type": "code",
   "execution_count": 16,
   "metadata": {},
   "outputs": [
    {
     "name": "stdout",
     "output_type": "stream",
     "text": [
      "Test Loss: 4.5830, Test Accuracy: 0.5901\n"
     ]
    }
   ],
   "source": [
    "x_test_3, y_test_3  = exclude_digits(x_test, y_test, excluded_digits=[4,6,9])\n",
    "test_loss_3 , test_accuracy_3 = evaluate_model(model1,x_test_3,y_test_3)\n",
    "\n",
    "print(f\"Test Loss: {test_loss_3.numpy():.4f}, Test Accuracy: {tf.reduce_mean(test_accuracy_3).numpy():.4f}\")"
   ]
  },
  {
   "cell_type": "code",
   "execution_count": null,
   "metadata": {},
   "outputs": [],
   "source": []
  },
  {
   "cell_type": "code",
   "execution_count": null,
   "metadata": {},
   "outputs": [],
   "source": []
  },
  {
   "cell_type": "code",
   "execution_count": 17,
   "metadata": {},
   "outputs": [
    {
     "name": "stdout",
     "output_type": "stream",
     "text": [
      "Test Loss: 2.4873, Test Accuracy: 0.1122\n"
     ]
    }
   ],
   "source": [
    "x_test_2, y_test_2  = exclude_digits(x_test, y_test, excluded_digits=[2, 5, 8])\n",
    "test_loss_2 , test_accuracy_2 = evaluate_model(model2,x_test_2,y_test_2)\n",
    "\n",
    "print(f\"Test Loss: {test_loss_2.numpy():.4f}, Test Accuracy: {tf.reduce_mean(test_accuracy_2).numpy():.4f}\")"
   ]
  },
  {
   "cell_type": "code",
   "execution_count": 18,
   "metadata": {},
   "outputs": [
    {
     "name": "stdout",
     "output_type": "stream",
     "text": [
      "Test Loss: 0.0655, Test Accuracy: 0.9793\n"
     ]
    }
   ],
   "source": [
    "x_test_3, y_test_3  = exclude_digits(x_test, y_test, excluded_digits=[4,6,9])\n",
    "test_loss_3 , test_accuracy_3 = evaluate_model(model3,x_test_3,y_test_3)\n",
    "\n",
    "print(f\"Test Loss: {test_loss_3.numpy():.4f}, Test Accuracy: {tf.reduce_mean(test_accuracy_3).numpy():.4f}\")"
   ]
  },
  {
   "cell_type": "code",
   "execution_count": null,
   "metadata": {},
   "outputs": [],
   "source": []
  },
  {
   "cell_type": "code",
   "execution_count": null,
   "metadata": {},
   "outputs": [],
   "source": []
  },
  {
   "cell_type": "code",
   "execution_count": null,
   "metadata": {},
   "outputs": [],
   "source": []
  },
  {
   "cell_type": "code",
   "execution_count": null,
   "metadata": {},
   "outputs": [],
   "source": []
  }
 ],
 "metadata": {
  "kernelspec": {
   "display_name": "ths_dev",
   "language": "python",
   "name": "python3"
  },
  "language_info": {
   "codemirror_mode": {
    "name": "ipython",
    "version": 3
   },
   "file_extension": ".py",
   "mimetype": "text/x-python",
   "name": "python",
   "nbconvert_exporter": "python",
   "pygments_lexer": "ipython3",
   "version": "3.10.16"
  }
 },
 "nbformat": 4,
 "nbformat_minor": 2
}

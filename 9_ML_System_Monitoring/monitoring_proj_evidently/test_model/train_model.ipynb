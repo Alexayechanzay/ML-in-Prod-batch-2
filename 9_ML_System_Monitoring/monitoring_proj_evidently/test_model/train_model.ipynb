{
 "cells": [
  {
   "cell_type": "code",
   "execution_count": 1,
   "metadata": {},
   "outputs": [],
   "source": [
    "import tensorflow as tf\n",
    "from tensorflow.keras.datasets import mnist\n",
    "from tensorflow.keras.models import Sequential\n",
    "from tensorflow.keras.layers import Flatten, Dense\n",
    "import os"
   ]
  },
  {
   "cell_type": "code",
   "execution_count": 2,
   "metadata": {},
   "outputs": [],
   "source": [
    "(x_train, y_train), (x_test,y_test) = mnist.load_data()\n",
    "\n"
   ]
  },
  {
   "cell_type": "code",
   "execution_count": 3,
   "metadata": {},
   "outputs": [
    {
     "name": "stderr",
     "output_type": "stream",
     "text": [
      "/opt/anaconda3/envs/ths_dev/lib/python3.10/site-packages/keras/src/layers/reshaping/flatten.py:37: UserWarning: Do not pass an `input_shape`/`input_dim` argument to a layer. When using Sequential models, prefer using an `Input(shape)` object as the first layer in the model instead.\n",
      "  super().__init__(**kwargs)\n"
     ]
    }
   ],
   "source": [
    "model = Sequential([\n",
    "    Flatten(input_shape=(28, 28)),\n",
    "    Dense(128, activation='relu'),\n",
    "    Dense(10, activation='softmax')\n",
    "])"
   ]
  },
  {
   "cell_type": "code",
   "execution_count": 4,
   "metadata": {},
   "outputs": [
    {
     "name": "stdout",
     "output_type": "stream",
     "text": [
      "Epoch 1/3\n",
      "\u001b[1m1875/1875\u001b[0m \u001b[32m━━━━━━━━━━━━━━━━━━━━\u001b[0m\u001b[37m\u001b[0m \u001b[1m1s\u001b[0m 646us/step - accuracy: 0.8208 - loss: 6.8187\n",
      "Epoch 2/3\n",
      "\u001b[1m1875/1875\u001b[0m \u001b[32m━━━━━━━━━━━━━━━━━━━━\u001b[0m\u001b[37m\u001b[0m \u001b[1m1s\u001b[0m 627us/step - accuracy: 0.9022 - loss: 0.4106\n",
      "Epoch 3/3\n",
      "\u001b[1m1875/1875\u001b[0m \u001b[32m━━━━━━━━━━━━━━━━━━━━\u001b[0m\u001b[37m\u001b[0m \u001b[1m1s\u001b[0m 607us/step - accuracy: 0.9238 - loss: 0.3063\n"
     ]
    },
    {
     "data": {
      "text/plain": [
       "<keras.src.callbacks.history.History at 0x178476620>"
      ]
     },
     "execution_count": 4,
     "metadata": {},
     "output_type": "execute_result"
    }
   ],
   "source": [
    "model.compile(optimizer='adam',\n",
    "              loss='sparse_categorical_crossentropy',\n",
    "              metrics=['accuracy'])\n",
    "\n",
    "model.fit(x_train, y_train, epochs=3)\n"
   ]
  },
  {
   "cell_type": "code",
   "execution_count": 5,
   "metadata": {},
   "outputs": [
    {
     "name": "stderr",
     "output_type": "stream",
     "text": [
      "WARNING:absl:You are saving your model as an HDF5 file via `model.save()` or `keras.saving.save_model(model)`. This file format is considered legacy. We recommend using instead the native Keras format, e.g. `model.save('my_model.keras')` or `keras.saving.save_model(model, 'my_model.keras')`. \n"
     ]
    }
   ],
   "source": [
    "# Save model\n",
    "\n",
    "model.save(\"mnist_model.h5\")"
   ]
  },
  {
   "cell_type": "code",
   "execution_count": 6,
   "metadata": {},
   "outputs": [
    {
     "name": "stdout",
     "output_type": "stream",
     "text": [
      "\u001b[1m1/1\u001b[0m \u001b[32m━━━━━━━━━━━━━━━━━━━━\u001b[0m\u001b[37m\u001b[0m \u001b[1m0s\u001b[0m 22ms/step\n"
     ]
    }
   ],
   "source": [
    "_pred_test = model.predict(x_test[:20])"
   ]
  },
  {
   "cell_type": "code",
   "execution_count": 7,
   "metadata": {},
   "outputs": [
    {
     "name": "stdout",
     "output_type": "stream",
     "text": [
      "[4.8122774e-06 1.7347155e-07 2.0257412e-05 5.2199580e-06 3.3828595e-09\n",
      " 1.1122938e-09 1.4955047e-13 9.9954504e-01 2.0088824e-07 4.2422157e-04]\n",
      "7\n",
      "[8.5211165e-23 2.2804103e-09 1.0000000e+00 4.7444763e-13 2.7887092e-20\n",
      " 8.6625935e-18 7.1474411e-31 7.8410076e-24 1.7362494e-15 0.0000000e+00]\n",
      "2\n",
      "[7.2589756e-09 9.9952018e-01 4.7161267e-04 3.5823755e-12 4.7581872e-11\n",
      " 2.2766396e-24 4.2894954e-09 8.1520393e-06 5.9527316e-08 4.1975159e-11]\n",
      "1\n",
      "[9.8134583e-01 1.5251955e-10 6.9329035e-03 2.3000117e-04 3.2229419e-04\n",
      " 2.6759927e-04 1.0045640e-02 5.7479017e-05 6.7590532e-04 1.2235918e-04]\n",
      "0\n",
      "[2.2931025e-07 4.8363763e-10 1.6976279e-13 6.2378116e-09 9.9386853e-01\n",
      " 1.5227397e-13 2.3066704e-07 2.4057974e-03 8.5753876e-11 3.7252053e-03]\n",
      "4\n",
      "[1.9410681e-05 9.9952185e-01 4.0300338e-07 8.9118929e-10 2.5320103e-06\n",
      " 1.3819219e-19 4.2497160e-04 2.5541347e-05 5.0150684e-06 3.6929018e-07]\n",
      "1\n",
      "[1.7671951e-08 4.4349153e-11 1.8317155e-13 3.5014214e-11 9.9997205e-01\n",
      " 1.7423731e-13 2.3832419e-05 7.0427097e-07 7.9774026e-08 3.4027116e-06]\n",
      "4\n",
      "[3.8898160e-09 2.0627482e-08 1.6758589e-03 8.5015508e-04 2.4788326e-02\n",
      " 3.1976458e-02 5.8039173e-09 1.7200141e-03 2.9029886e-04 9.3869877e-01]\n",
      "9\n",
      "[9.1034127e-14 2.8800148e-10 7.0142619e-10 3.4668111e-07 6.1619795e-07\n",
      " 9.8566347e-01 2.5398842e-06 8.6599929e-20 1.4260266e-02 7.2763702e-05]\n",
      "5\n",
      "[1.4189711e-13 3.0704221e-13 2.7178545e-04 2.5192803e-06 1.8993327e-02\n",
      " 9.7965787e-04 4.6996095e-14 5.8764417e-04 3.4264041e-04 9.7882253e-01]\n",
      "9\n",
      "[1.0000000e+00 8.0715582e-26 1.0928916e-19 5.8060396e-17 4.1765351e-14\n",
      " 2.1464859e-15 1.1142994e-13 3.4438658e-16 2.5139900e-15 1.2819900e-14]\n",
      "0\n",
      "[1.7586609e-06 6.9379541e-03 4.6300292e-03 5.0991535e-04 5.9044953e-03\n",
      " 3.0973533e-04 9.7126019e-01 4.4423956e-03 5.6378176e-03 3.6577292e-04]\n",
      "6\n",
      "[1.0408390e-12 8.1557448e-11 7.4503070e-05 3.7959187e-05 1.0347463e-03\n",
      " 4.0563834e-03 2.7457601e-14 7.6341216e-04 2.8762803e-05 9.9400413e-01]\n",
      "9\n",
      "[9.7203040e-01 2.5873114e-25 3.9392500e-08 3.1466420e-14 1.4252595e-09\n",
      " 9.9056931e-03 1.3120732e-07 4.3647983e-03 7.3595647e-06 1.3691455e-02]\n",
      "0\n",
      "[2.5421743e-25 9.9999177e-01 1.4010307e-13 7.3033863e-07 5.8938126e-06\n",
      " 1.7099120e-21 1.1584682e-10 9.2768595e-08 3.5488114e-07 1.2490386e-06]\n",
      "1\n",
      "[7.8296313e-23 3.9853474e-19 5.6348368e-12 2.6857401e-03 1.0274013e-21\n",
      " 9.9731135e-01 2.1969316e-28 4.0087777e-29 2.8267432e-06 2.0386292e-07]\n",
      "5\n",
      "[1.0719664e-12 4.7537772e-12 4.1620609e-05 5.8003796e-05 5.3259570e-05\n",
      " 2.2762842e-02 1.3734508e-15 8.2913328e-05 6.5722311e-04 9.7634411e-01]\n",
      "9\n",
      "[2.2639486e-11 8.9676316e-10 3.6483809e-05 8.1001126e-06 4.4838426e-12\n",
      " 9.1000879e-16 3.9770166e-18 9.9995255e-01 3.3222064e-10 2.8088123e-06]\n",
      "7\n",
      "[4.1784837e-08 2.2054246e-02 2.6314193e-02 8.3198327e-01 2.7503865e-03\n",
      " 3.7250288e-06 4.2693432e-07 1.2068455e-06 1.1689114e-01 1.2937564e-06]\n",
      "3\n",
      "[1.9108863e-16 7.6766522e-18 1.3334724e-19 1.1257544e-16 1.0000000e+00\n",
      " 1.7233036e-22 2.2457308e-14 5.7512186e-09 5.2212876e-23 3.2767598e-08]\n",
      "4\n"
     ]
    }
   ],
   "source": [
    "import numpy as np\n",
    "for temp in _pred_test:\n",
    "    print(temp)\n",
    "    print(int(np.argmax(temp)))\n"
   ]
  },
  {
   "cell_type": "markdown",
   "metadata": {},
   "source": [
    "### Now we need to create Reference data "
   ]
  },
  {
   "cell_type": "code",
   "execution_count": 8,
   "metadata": {},
   "outputs": [
    {
     "name": "stdout",
     "output_type": "stream",
     "text": [
      "\u001b[1m1875/1875\u001b[0m \u001b[32m━━━━━━━━━━━━━━━━━━━━\u001b[0m\u001b[37m\u001b[0m \u001b[1m0s\u001b[0m 226us/step\n",
      "0.9255333333333333\n"
     ]
    }
   ],
   "source": [
    "_pred_train = model.predict(x_train)\n",
    "_pred_train_arry = [ int(np.argmax(x)) for x in _pred_train]\n",
    "print(  np.sum(_pred_train_arry  == y_train)/len(y_train))\n"
   ]
  },
  {
   "cell_type": "code",
   "execution_count": 9,
   "metadata": {},
   "outputs": [],
   "source": [
    "from sklearn.decomposition import PCA\n",
    "import pandas as pd\n",
    "def get_pca_data(_pred_result_:np.array):\n",
    "    pca = PCA(n_components=5)\n",
    "    features_reduced = pca.fit_transform(_pred_result_)\n",
    "    return features_reduced"
   ]
  },
  {
   "cell_type": "code",
   "execution_count": 10,
   "metadata": {},
   "outputs": [
    {
     "name": "stdout",
     "output_type": "stream",
     "text": [
      "[[-7.9900309e-02 -2.2806630e-02 -1.5288383e-02  1.5481500e-01\n",
      "   1.5618327e-01]\n",
      " [-4.2299911e-02 -1.2178484e-01  4.5534555e-02  1.2974273e-01\n",
      "   2.2299090e-01]\n",
      " [-7.8807183e-02 -1.7926112e-01 -2.4653831e-04  5.8409542e-01\n",
      "  -5.7665151e-01]\n",
      " ...\n",
      " [-7.9900309e-02 -2.2806630e-02 -1.5288383e-02  1.5481500e-01\n",
      "   1.5618327e-01]\n",
      " [-4.2819511e-02 -1.2864733e-01  1.8353392e-01  2.5502175e-01\n",
      "   7.0443231e-01]\n",
      " [-3.4838358e-01  8.0669057e-01 -1.4523607e-01 -1.5428799e-01\n",
      "  -5.3886969e-02]]\n"
     ]
    }
   ],
   "source": [
    "features_reduced = get_pca_data(_pred_train)\n",
    "print(features_reduced)\n",
    "\n"
   ]
  },
  {
   "cell_type": "code",
   "execution_count": 11,
   "metadata": {},
   "outputs": [
    {
     "data": {
      "text/plain": [
       "{'mean_pixel': np.float64(33.318421449829934),\n",
       " 'std_pixel': np.float64(78.56748998339798),\n",
       " 'min_pixel': np.uint8(0),\n",
       " 'max_pixel': np.uint8(255)}"
      ]
     },
     "execution_count": 11,
     "metadata": {},
     "output_type": "execute_result"
    }
   ],
   "source": [
    "import numpy as np\n",
    "\n",
    "def extract_image_stats(images):\n",
    "    stats = {\n",
    "        \"mean_pixel\": np.mean(images),\n",
    "        \"std_pixel\": np.std(images),\n",
    "        \"min_pixel\": np.min(images),\n",
    "        \"max_pixel\": np.max(images),\n",
    "    }\n",
    "    return stats\n",
    "\n",
    "train_image_data = extract_image_stats(x_train)\n",
    "train_image_data"
   ]
  },
  {
   "cell_type": "code",
   "execution_count": 12,
   "metadata": {},
   "outputs": [
    {
     "data": {
      "text/html": [
       "<div>\n",
       "<style scoped>\n",
       "    .dataframe tbody tr th:only-of-type {\n",
       "        vertical-align: middle;\n",
       "    }\n",
       "\n",
       "    .dataframe tbody tr th {\n",
       "        vertical-align: top;\n",
       "    }\n",
       "\n",
       "    .dataframe thead th {\n",
       "        text-align: right;\n",
       "    }\n",
       "</style>\n",
       "<table border=\"1\" class=\"dataframe\">\n",
       "  <thead>\n",
       "    <tr style=\"text-align: right;\">\n",
       "      <th></th>\n",
       "      <th>pca_0</th>\n",
       "      <th>pca_1</th>\n",
       "      <th>pca_2</th>\n",
       "      <th>pca_3</th>\n",
       "      <th>pca_4</th>\n",
       "      <th>target</th>\n",
       "      <th>timestamp</th>\n",
       "      <th>mean_pixel</th>\n",
       "      <th>std_pixel</th>\n",
       "      <th>min_pixel</th>\n",
       "      <th>max_pixel</th>\n",
       "    </tr>\n",
       "  </thead>\n",
       "  <tbody>\n",
       "    <tr>\n",
       "      <th>0</th>\n",
       "      <td>-0.079900</td>\n",
       "      <td>-0.022807</td>\n",
       "      <td>-0.015288</td>\n",
       "      <td>0.154815</td>\n",
       "      <td>0.156183</td>\n",
       "      <td>5</td>\n",
       "      <td>2025-04-11 22:50:16.008235</td>\n",
       "      <td>33.318421</td>\n",
       "      <td>78.56749</td>\n",
       "      <td>0</td>\n",
       "      <td>255</td>\n",
       "    </tr>\n",
       "    <tr>\n",
       "      <th>1</th>\n",
       "      <td>-0.042300</td>\n",
       "      <td>-0.121785</td>\n",
       "      <td>0.045535</td>\n",
       "      <td>0.129743</td>\n",
       "      <td>0.222991</td>\n",
       "      <td>0</td>\n",
       "      <td>2025-04-11 22:50:16.008235</td>\n",
       "      <td>33.318421</td>\n",
       "      <td>78.56749</td>\n",
       "      <td>0</td>\n",
       "      <td>255</td>\n",
       "    </tr>\n",
       "    <tr>\n",
       "      <th>2</th>\n",
       "      <td>-0.078807</td>\n",
       "      <td>-0.179261</td>\n",
       "      <td>-0.000247</td>\n",
       "      <td>0.584095</td>\n",
       "      <td>-0.576652</td>\n",
       "      <td>4</td>\n",
       "      <td>2025-04-11 22:50:16.008235</td>\n",
       "      <td>33.318421</td>\n",
       "      <td>78.56749</td>\n",
       "      <td>0</td>\n",
       "      <td>255</td>\n",
       "    </tr>\n",
       "    <tr>\n",
       "      <th>3</th>\n",
       "      <td>0.911308</td>\n",
       "      <td>0.206807</td>\n",
       "      <td>-0.012764</td>\n",
       "      <td>-0.071851</td>\n",
       "      <td>-0.054462</td>\n",
       "      <td>1</td>\n",
       "      <td>2025-04-11 22:50:16.008235</td>\n",
       "      <td>33.318421</td>\n",
       "      <td>78.56749</td>\n",
       "      <td>0</td>\n",
       "      <td>255</td>\n",
       "    </tr>\n",
       "    <tr>\n",
       "      <th>4</th>\n",
       "      <td>-0.081020</td>\n",
       "      <td>-0.093365</td>\n",
       "      <td>-0.132588</td>\n",
       "      <td>0.126125</td>\n",
       "      <td>-0.096161</td>\n",
       "      <td>9</td>\n",
       "      <td>2025-04-11 22:50:16.008235</td>\n",
       "      <td>33.318421</td>\n",
       "      <td>78.56749</td>\n",
       "      <td>0</td>\n",
       "      <td>255</td>\n",
       "    </tr>\n",
       "    <tr>\n",
       "      <th>...</th>\n",
       "      <td>...</td>\n",
       "      <td>...</td>\n",
       "      <td>...</td>\n",
       "      <td>...</td>\n",
       "      <td>...</td>\n",
       "      <td>...</td>\n",
       "      <td>...</td>\n",
       "      <td>...</td>\n",
       "      <td>...</td>\n",
       "      <td>...</td>\n",
       "      <td>...</td>\n",
       "    </tr>\n",
       "    <tr>\n",
       "      <th>59995</th>\n",
       "      <td>-0.348394</td>\n",
       "      <td>0.806725</td>\n",
       "      <td>-0.145240</td>\n",
       "      <td>-0.154302</td>\n",
       "      <td>-0.053887</td>\n",
       "      <td>8</td>\n",
       "      <td>2025-04-11 22:50:16.008235</td>\n",
       "      <td>33.318421</td>\n",
       "      <td>78.56749</td>\n",
       "      <td>0</td>\n",
       "      <td>255</td>\n",
       "    </tr>\n",
       "    <tr>\n",
       "      <th>59996</th>\n",
       "      <td>-0.194371</td>\n",
       "      <td>0.372577</td>\n",
       "      <td>-0.060509</td>\n",
       "      <td>-0.041272</td>\n",
       "      <td>0.008749</td>\n",
       "      <td>3</td>\n",
       "      <td>2025-04-11 22:50:16.008235</td>\n",
       "      <td>33.318421</td>\n",
       "      <td>78.56749</td>\n",
       "      <td>0</td>\n",
       "      <td>255</td>\n",
       "    </tr>\n",
       "    <tr>\n",
       "      <th>59997</th>\n",
       "      <td>-0.079900</td>\n",
       "      <td>-0.022807</td>\n",
       "      <td>-0.015288</td>\n",
       "      <td>0.154815</td>\n",
       "      <td>0.156183</td>\n",
       "      <td>5</td>\n",
       "      <td>2025-04-11 22:50:16.008235</td>\n",
       "      <td>33.318421</td>\n",
       "      <td>78.56749</td>\n",
       "      <td>0</td>\n",
       "      <td>255</td>\n",
       "    </tr>\n",
       "    <tr>\n",
       "      <th>59998</th>\n",
       "      <td>-0.042820</td>\n",
       "      <td>-0.128647</td>\n",
       "      <td>0.183534</td>\n",
       "      <td>0.255022</td>\n",
       "      <td>0.704432</td>\n",
       "      <td>6</td>\n",
       "      <td>2025-04-11 22:50:16.008235</td>\n",
       "      <td>33.318421</td>\n",
       "      <td>78.56749</td>\n",
       "      <td>0</td>\n",
       "      <td>255</td>\n",
       "    </tr>\n",
       "    <tr>\n",
       "      <th>59999</th>\n",
       "      <td>-0.348384</td>\n",
       "      <td>0.806691</td>\n",
       "      <td>-0.145236</td>\n",
       "      <td>-0.154288</td>\n",
       "      <td>-0.053887</td>\n",
       "      <td>8</td>\n",
       "      <td>2025-04-11 22:50:16.008235</td>\n",
       "      <td>33.318421</td>\n",
       "      <td>78.56749</td>\n",
       "      <td>0</td>\n",
       "      <td>255</td>\n",
       "    </tr>\n",
       "  </tbody>\n",
       "</table>\n",
       "<p>60000 rows × 11 columns</p>\n",
       "</div>"
      ],
      "text/plain": [
       "          pca_0     pca_1     pca_2     pca_3     pca_4  target  \\\n",
       "0     -0.079900 -0.022807 -0.015288  0.154815  0.156183       5   \n",
       "1     -0.042300 -0.121785  0.045535  0.129743  0.222991       0   \n",
       "2     -0.078807 -0.179261 -0.000247  0.584095 -0.576652       4   \n",
       "3      0.911308  0.206807 -0.012764 -0.071851 -0.054462       1   \n",
       "4     -0.081020 -0.093365 -0.132588  0.126125 -0.096161       9   \n",
       "...         ...       ...       ...       ...       ...     ...   \n",
       "59995 -0.348394  0.806725 -0.145240 -0.154302 -0.053887       8   \n",
       "59996 -0.194371  0.372577 -0.060509 -0.041272  0.008749       3   \n",
       "59997 -0.079900 -0.022807 -0.015288  0.154815  0.156183       5   \n",
       "59998 -0.042820 -0.128647  0.183534  0.255022  0.704432       6   \n",
       "59999 -0.348384  0.806691 -0.145236 -0.154288 -0.053887       8   \n",
       "\n",
       "                       timestamp  mean_pixel  std_pixel  min_pixel  max_pixel  \n",
       "0     2025-04-11 22:50:16.008235   33.318421   78.56749          0        255  \n",
       "1     2025-04-11 22:50:16.008235   33.318421   78.56749          0        255  \n",
       "2     2025-04-11 22:50:16.008235   33.318421   78.56749          0        255  \n",
       "3     2025-04-11 22:50:16.008235   33.318421   78.56749          0        255  \n",
       "4     2025-04-11 22:50:16.008235   33.318421   78.56749          0        255  \n",
       "...                          ...         ...        ...        ...        ...  \n",
       "59995 2025-04-11 22:50:16.008235   33.318421   78.56749          0        255  \n",
       "59996 2025-04-11 22:50:16.008235   33.318421   78.56749          0        255  \n",
       "59997 2025-04-11 22:50:16.008235   33.318421   78.56749          0        255  \n",
       "59998 2025-04-11 22:50:16.008235   33.318421   78.56749          0        255  \n",
       "59999 2025-04-11 22:50:16.008235   33.318421   78.56749          0        255  \n",
       "\n",
       "[60000 rows x 11 columns]"
      ]
     },
     "execution_count": 12,
     "metadata": {},
     "output_type": "execute_result"
    }
   ],
   "source": [
    "df_reference = pd.DataFrame(features_reduced, columns=[f'pca_{i}' for i in range(5)])\n",
    "df_reference['target'] = y_train  # true labels for the test set\n",
    "df_reference['timestamp'] = pd.to_datetime('now')\n",
    "df_reference['mean_pixel'] = train_image_data['mean_pixel']\n",
    "df_reference['std_pixel'] = train_image_data['std_pixel']\n",
    "df_reference['min_pixel'] = train_image_data['min_pixel']\n",
    "df_reference['max_pixel'] = train_image_data['max_pixel']\n",
    "\n",
    "\n",
    "df_reference"
   ]
  },
  {
   "cell_type": "markdown",
   "metadata": {},
   "source": [
    "### Let's create current df"
   ]
  },
  {
   "cell_type": "code",
   "execution_count": 13,
   "metadata": {},
   "outputs": [
    {
     "name": "stdout",
     "output_type": "stream",
     "text": [
      "\u001b[1m313/313\u001b[0m \u001b[32m━━━━━━━━━━━━━━━━━━━━\u001b[0m\u001b[37m\u001b[0m \u001b[1m0s\u001b[0m 251us/step\n",
      "0.9237\n"
     ]
    }
   ],
   "source": [
    "_pred_test = model.predict(x_test)\n",
    "_pred_test_arry = [ int(np.argmax(x)) for x in _pred_test]\n",
    "print(  np.sum(_pred_test_arry  == y_test)/len(y_test))\n"
   ]
  },
  {
   "cell_type": "code",
   "execution_count": 14,
   "metadata": {},
   "outputs": [
    {
     "data": {
      "text/plain": [
       "{'mean_pixel': np.float64(33.791224489795916),\n",
       " 'std_pixel': np.float64(79.17246322228644),\n",
       " 'min_pixel': np.uint8(0),\n",
       " 'max_pixel': np.uint8(255)}"
      ]
     },
     "execution_count": 14,
     "metadata": {},
     "output_type": "execute_result"
    }
   ],
   "source": [
    "test_image_data = extract_image_stats(x_test)\n",
    "test_image_data"
   ]
  },
  {
   "cell_type": "code",
   "execution_count": 15,
   "metadata": {},
   "outputs": [],
   "source": [
    "features_reduced_new = get_pca_data(_pred_test)\n",
    "df_new = pd.DataFrame(features_reduced_new, columns=[f'pca_{i}' for i in range(5)])\n",
    "df_new['target'] = y_test  # true labels for the new data\n",
    "df_new['timestamp'] = pd.to_datetime('now')\n",
    "df_new['mean_pixel'] = test_image_data['mean_pixel']\n",
    "df_new['std_pixel'] = test_image_data['std_pixel']\n",
    "df_new['min_pixel'] = test_image_data['max_pixel']\n",
    "df_new['max_pixel'] = test_image_data['max_pixel']\n",
    "\n"
   ]
  },
  {
   "cell_type": "code",
   "execution_count": 16,
   "metadata": {},
   "outputs": [],
   "source": [
    "from evidently.metrics import ColumnDriftMetric, DatasetDriftMetric, DatasetMissingValuesMetric\n",
    "from evidently.metric_preset import DataDriftPreset\n"
   ]
  },
  {
   "cell_type": "code",
   "execution_count": 17,
   "metadata": {},
   "outputs": [
    {
     "name": "stderr",
     "output_type": "stream",
     "text": [
      "/opt/anaconda3/envs/ths_dev/lib/python3.10/site-packages/numpy/lib/_function_base_impl.py:2922: RuntimeWarning: invalid value encountered in divide\n",
      "  c /= stddev[:, None]\n",
      "/opt/anaconda3/envs/ths_dev/lib/python3.10/site-packages/numpy/lib/_function_base_impl.py:2923: RuntimeWarning: invalid value encountered in divide\n",
      "  c /= stddev[None, :]\n",
      "/opt/anaconda3/envs/ths_dev/lib/python3.10/site-packages/numpy/lib/_function_base_impl.py:2922: RuntimeWarning: invalid value encountered in divide\n",
      "  c /= stddev[:, None]\n",
      "/opt/anaconda3/envs/ths_dev/lib/python3.10/site-packages/numpy/lib/_function_base_impl.py:2923: RuntimeWarning: invalid value encountered in divide\n",
      "  c /= stddev[None, :]\n",
      "/opt/anaconda3/envs/ths_dev/lib/python3.10/site-packages/numpy/lib/_function_base_impl.py:2922: RuntimeWarning: invalid value encountered in divide\n",
      "  c /= stddev[:, None]\n",
      "/opt/anaconda3/envs/ths_dev/lib/python3.10/site-packages/numpy/lib/_function_base_impl.py:2923: RuntimeWarning: invalid value encountered in divide\n",
      "  c /= stddev[None, :]\n",
      "/opt/anaconda3/envs/ths_dev/lib/python3.10/site-packages/numpy/lib/_function_base_impl.py:2922: RuntimeWarning: invalid value encountered in divide\n",
      "  c /= stddev[:, None]\n",
      "/opt/anaconda3/envs/ths_dev/lib/python3.10/site-packages/numpy/lib/_function_base_impl.py:2923: RuntimeWarning: invalid value encountered in divide\n",
      "  c /= stddev[None, :]\n"
     ]
    }
   ],
   "source": [
    "from evidently.report import Report\n",
    "\n",
    "report = Report(\n",
    "    metrics=[\n",
    "            ColumnDriftMetric(column_name='mean_pixel'),\n",
    "            ColumnDriftMetric(column_name='std_pixel') ,\n",
    "            ColumnDriftMetric(column_name='max_pixel'),\n",
    "            ColumnDriftMetric(column_name='max_pixel'),\n",
    "             DataDriftPreset()]\n",
    ")\n",
    "report.run(reference_data=df_reference, current_data=df_new)\n",
    "\n",
    "#report.show()\n"
   ]
  },
  {
   "cell_type": "code",
   "execution_count": 18,
   "metadata": {},
   "outputs": [],
   "source": [
    "df_reference.to_csv(\"reference_data.csv\", index=False)"
   ]
  },
  {
   "cell_type": "code",
   "execution_count": 20,
   "metadata": {},
   "outputs": [
    {
     "data": {
      "text/plain": [
       "'0.6.6'"
      ]
     },
     "execution_count": 20,
     "metadata": {},
     "output_type": "execute_result"
    }
   ],
   "source": [
    "import evidently\n",
    "evidently.__version__"
   ]
  },
  {
   "cell_type": "code",
   "execution_count": null,
   "metadata": {},
   "outputs": [],
   "source": []
  }
 ],
 "metadata": {
  "kernelspec": {
   "display_name": "ths_dev",
   "language": "python",
   "name": "python3"
  },
  "language_info": {
   "codemirror_mode": {
    "name": "ipython",
    "version": 3
   },
   "file_extension": ".py",
   "mimetype": "text/x-python",
   "name": "python",
   "nbconvert_exporter": "python",
   "pygments_lexer": "ipython3",
   "version": "3.10.16"
  }
 },
 "nbformat": 4,
 "nbformat_minor": 2
}

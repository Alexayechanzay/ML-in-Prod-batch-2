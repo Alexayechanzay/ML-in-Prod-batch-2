{
 "cells": [
  {
   "cell_type": "code",
   "execution_count": 5,
   "metadata": {},
   "outputs": [
    {
     "ename": "AttributeError",
     "evalue": "module 'evently' has no attribute 'monitor'",
     "output_type": "error",
     "traceback": [
      "\u001b[0;31m---------------------------------------------------------------------------\u001b[0m",
      "\u001b[0;31mAttributeError\u001b[0m                            Traceback (most recent call last)",
      "Cell \u001b[0;32mIn[5], line 8\u001b[0m\n\u001b[1;32m      2\u001b[0m \u001b[38;5;28;01mimport\u001b[39;00m \u001b[38;5;21;01mtensorflow\u001b[39;00m \u001b[38;5;28;01mas\u001b[39;00m \u001b[38;5;21;01mtf\u001b[39;00m\n\u001b[1;32m      4\u001b[0m \u001b[38;5;66;03m# Initialize EventlyAI with your API key and project information\u001b[39;00m\n\u001b[1;32m      5\u001b[0m \u001b[38;5;66;03m#evently.init(api_key='dG9rbgFM4fVs9htIx7wXh/ouPVnKQYx76V2BTRmIZEL/dgcwRgBQJA+pqslRuvlr0HqL1ykCUjjgmqM9qHoRr15kTqQsODCrGBmHJUQxZlXs5c6dy5LJxp3KO2rdHy8KUxNeqCSzGsQXf+nP+SuR6mKhSUrrYXAe6Jsl', project_id='tharhtet')\u001b[39;00m\n\u001b[1;32m      6\u001b[0m \n\u001b[1;32m      7\u001b[0m \u001b[38;5;66;03m# Set up data monitoring\u001b[39;00m\n\u001b[0;32m----> 8\u001b[0m monitor \u001b[38;5;241m=\u001b[39m \u001b[43mevently\u001b[49m\u001b[38;5;241;43m.\u001b[39;49m\u001b[43mmonitor\u001b[49m()\n",
      "\u001b[0;31mAttributeError\u001b[0m: module 'evently' has no attribute 'monitor'"
     ]
    }
   ],
   "source": [
    "import evently\n",
    "import tensorflow as tf\n",
    "\n",
    "# Initialize EventlyAI with your API key and project information\n",
    "#evently.init(api_key='dG9rbgFM4fVs9htIx7wXh/ouPVnKQYx76V2BTRmIZEL/dgcwRgBQJA+pqslRuvlr0HqL1ykCUjjgmqM9qHoRr15kTqQsODCrGBmHJUQxZlXs5c6dy5LJxp3KO2rdHy8KUxNeqCSzGsQXf+nP+SuR6mKhSUrrYXAe6Jsl', project_id='tharhtet')\n",
    "\n",
    "# Set up data monitoring\n",
    "monitor = evently.monitor()"
   ]
  },
  {
   "cell_type": "code",
   "execution_count": null,
   "metadata": {},
   "outputs": [
    {
     "name": "stdout",
     "output_type": "stream",
     "text": [
      "Collecting evently\n",
      "  Downloading evently-0.1.1.tar.gz (5.4 kB)\n",
      "  Preparing metadata (setup.py) ... \u001b[?25ldone\n",
      "\u001b[?25hBuilding wheels for collected packages: evently\n",
      "  Building wheel for evently (setup.py) ... \u001b[?25ldone\n",
      "\u001b[?25h  Created wheel for evently: filename=evently-0.1.1-py3-none-any.whl size=5648 sha256=96128c48d6aae3585273b7cdab2af44ed23eebf71562e8dbdcf4b46ecd21194d\n",
      "  Stored in directory: /Users/tharhtet/Library/Caches/pip/wheels/31/7c/fa/488e5a77bf5cebcdc4fea10680dc0d1869b1b4e70facc14433\n",
      "Successfully built evently\n",
      "Installing collected packages: evently\n",
      "Successfully installed evently-0.1.1\n"
     ]
    }
   ],
   "source": [
    "#!pip install evently"
   ]
  },
  {
   "cell_type": "code",
   "execution_count": null,
   "metadata": {},
   "outputs": [],
   "source": []
  }
 ],
 "metadata": {
  "kernelspec": {
   "display_name": "ths_dev",
   "language": "python",
   "name": "python3"
  },
  "language_info": {
   "codemirror_mode": {
    "name": "ipython",
    "version": 3
   },
   "file_extension": ".py",
   "mimetype": "text/x-python",
   "name": "python",
   "nbconvert_exporter": "python",
   "pygments_lexer": "ipython3",
   "version": "3.10.16"
  }
 },
 "nbformat": 4,
 "nbformat_minor": 2
}

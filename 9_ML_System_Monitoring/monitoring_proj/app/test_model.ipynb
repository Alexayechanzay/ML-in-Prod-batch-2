{
 "cells": [
  {
   "cell_type": "code",
   "execution_count": 8,
   "metadata": {},
   "outputs": [],
   "source": [
    "import tensorflow as tf\n",
    "from tensorflow.keras.datasets import mnist\n",
    "from tensorflow.keras.models import Sequential\n",
    "from tensorflow.keras.layers import Flatten, Dense\n",
    "import os"
   ]
  },
  {
   "cell_type": "code",
   "execution_count": 9,
   "metadata": {},
   "outputs": [],
   "source": [
    "(x_train, y_train), _ = mnist.load_data()\n",
    "x_train = x_train / 255.0\n"
   ]
  },
  {
   "cell_type": "code",
   "execution_count": 10,
   "metadata": {},
   "outputs": [
    {
     "ename": "SyntaxError",
     "evalue": "invalid decimal literal (2882353671.py, line 1)",
     "output_type": "error",
     "traceback": [
      "\u001b[0;36m  Cell \u001b[0;32mIn[10], line 1\u001b[0;36m\u001b[0m\n\u001b[0;31m    Users/tharhtet/Documents/github/ML-in-Prod-batch-2/9_ML_System_Monitoring/monitoring_proj/app/model/mnist_model.h5()\u001b[0m\n\u001b[0m                                                        ^\u001b[0m\n\u001b[0;31mSyntaxError\u001b[0m\u001b[0;31m:\u001b[0m invalid decimal literal\n"
     ]
    }
   ],
   "source": [
    "/Users/tharhtet/Documents/github/ML-in-Prod-batch-2/9_ML_System_Monitoring/monitoring_proj/app/model/mnist_model.h5"
   ]
  },
  {
   "cell_type": "code",
   "execution_count": 12,
   "metadata": {},
   "outputs": [
    {
     "name": "stderr",
     "output_type": "stream",
     "text": [
      "WARNING:absl:Compiled the loaded model, but the compiled metrics have yet to be built. `model.compile_metrics` will be empty until you train or evaluate the model.\n"
     ]
    }
   ],
   "source": [
    "from model import predict_digit\n",
    "from tensorflow.keras.models import load_model\n",
    "model = load_model(\"./model/mnist_model.h5\")\n",
    "\n",
    "\n"
   ]
  },
  {
   "cell_type": "code",
   "execution_count": 13,
   "metadata": {},
   "outputs": [
    {
     "name": "stdout",
     "output_type": "stream",
     "text": [
      "\u001b[1m1875/1875\u001b[0m \u001b[32m━━━━━━━━━━━━━━━━━━━━\u001b[0m\u001b[37m\u001b[0m \u001b[1m1s\u001b[0m 286us/step\n"
     ]
    },
    {
     "data": {
      "text/plain": [
       "array([[1.4117858e-09, 6.5608013e-08, 9.8330259e-09, ..., 1.5428115e-07,\n",
       "        6.1566960e-09, 3.3221775e-06],\n",
       "       [9.9999464e-01, 3.3805073e-11, 2.7447670e-06, ..., 3.0138551e-08,\n",
       "        1.7855700e-10, 1.5171840e-06],\n",
       "       [4.5463017e-07, 7.4610416e-06, 1.3421950e-03, ..., 1.1040159e-02,\n",
       "        1.8143555e-05, 1.3673896e-03],\n",
       "       ...,\n",
       "       [7.9564506e-12, 2.3547899e-09, 6.8597753e-13, ..., 1.4259025e-10,\n",
       "        4.0924778e-07, 3.9678216e-07],\n",
       "       [1.9325902e-03, 1.4883271e-04, 8.2333776e-04, ..., 3.0732761e-05,\n",
       "        1.2565948e-05, 1.6355049e-05],\n",
       "       [3.4681822e-03, 1.2633316e-06, 8.2809012e-04, ..., 2.6598549e-04,\n",
       "        9.9173665e-01, 1.9689361e-03]], dtype=float32)"
      ]
     },
     "execution_count": 13,
     "metadata": {},
     "output_type": "execute_result"
    }
   ],
   "source": [
    "\n",
    "prediction = model.predict(x_train)\n",
    "prediction"
   ]
  },
  {
   "cell_type": "code",
   "execution_count": null,
   "metadata": {},
   "outputs": [],
   "source": []
  }
 ],
 "metadata": {
  "kernelspec": {
   "display_name": "ths_dev",
   "language": "python",
   "name": "python3"
  },
  "language_info": {
   "codemirror_mode": {
    "name": "ipython",
    "version": 3
   },
   "file_extension": ".py",
   "mimetype": "text/x-python",
   "name": "python",
   "nbconvert_exporter": "python",
   "pygments_lexer": "ipython3",
   "version": "3.10.16"
  }
 },
 "nbformat": 4,
 "nbformat_minor": 2
}

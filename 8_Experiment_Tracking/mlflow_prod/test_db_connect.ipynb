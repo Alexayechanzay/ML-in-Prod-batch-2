{
 "cells": [
  {
   "cell_type": "code",
   "execution_count": 4,
   "metadata": {},
   "outputs": [],
   "source": [
    "import psycopg\n",
    "create_table_statement = \"\"\"\n",
    "drop table if exists dummy_metrics;\n",
    "create table dummy_metrics(\n",
    "\ttimestamp timestamp,\n",
    "\tvalue1 integer,\n",
    "\tvalue2 varchar,\n",
    "\tvalue3 float\n",
    ")\n",
    "\"\"\""
   ]
  },
  {
   "cell_type": "code",
   "execution_count": null,
   "metadata": {},
   "outputs": [
    {
     "name": "stdout",
     "output_type": "stream",
     "text": [
      "dummy_metrics is created\n"
     ]
    }
   ],
   "source": [
    "with psycopg.connect(\"host=34.46.76.38 port=5432 user=postgres password=tharhtetpwd\", autocommit=True) as conn:\n",
    "\t\tres = conn.execute(\"SELECT 1 FROM pg_database WHERE datname='test_db'\")\n",
    "\t\tif len(res.fetchall()) == 0:\n",
    "\t\t\tconn.execute(\"create database test_db;\")\n",
    "\t\t\tprint(\"created test database\")\n",
    "\n",
    "\n",
    "\t\twith psycopg.connect(\"host=34.46.76.38 port=5432 dbname=test_db user=postgres password=tharhtetpwd\") as conn:\n",
    "\t\t\tprint(\"dummy_metrics is created\")\n",
    "\t\t\tconn.execute(create_table_statement)"
   ]
  },
  {
   "cell_type": "code",
   "execution_count": null,
   "metadata": {},
   "outputs": [],
   "source": []
  }
 ],
 "metadata": {
  "kernelspec": {
   "display_name": "dev_env",
   "language": "python",
   "name": "python3"
  },
  "language_info": {
   "codemirror_mode": {
    "name": "ipython",
    "version": 3
   },
   "file_extension": ".py",
   "mimetype": "text/x-python",
   "name": "python",
   "nbconvert_exporter": "python",
   "pygments_lexer": "ipython3",
   "version": "3.10.14"
  }
 },
 "nbformat": 4,
 "nbformat_minor": 2
}

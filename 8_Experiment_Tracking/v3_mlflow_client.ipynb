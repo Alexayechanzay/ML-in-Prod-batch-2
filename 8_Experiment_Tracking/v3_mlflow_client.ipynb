{
 "cells": [
  {
   "cell_type": "markdown",
   "metadata": {},
   "source": [
    "### How to restore deleted MLflow experiment"
   ]
  },
  {
   "cell_type": "markdown",
   "metadata": {},
   "source": [
    "1. Create MLflow experiment from MLflow UI. name  = mlflow_test\n",
    "And store exp_id (eg: 904123839726578774)\n",
    "\n",
    "2. Delete the \"mlflow_test\" experiment.\n",
    "\n",
    "3. Check the folder name in \"904123839726578774\" in ```mlruns/.trash/```\n",
    "\n",
    "4. To restore the that experiment. Please move that folder to ```mlruns/```\n",
    "\n",
    "5. Set \"active\" to \"lifecycle_stage\" from the file ```mlruns/904123839726578774/meta.yaml```\n",
    "\n",
    "6. Refresh the mlflow UI."
   ]
  },
  {
   "cell_type": "code",
   "execution_count": 4,
   "metadata": {},
   "outputs": [],
   "source": [
    "### Create MLflow exp with tags"
   ]
  },
  {
   "cell_type": "code",
   "execution_count": 3,
   "metadata": {},
   "outputs": [],
   "source": [
    "from pathlib import Path\n",
    "from mlflow import MlflowClient\n",
    "import mlflow\n",
    "import time"
   ]
  },
  {
   "cell_type": "code",
   "execution_count": 4,
   "metadata": {},
   "outputs": [],
   "source": [
    "mlflow.set_tracking_uri(\"http://127.0.0.1:8080/\")\n",
    "time.sleep(15)"
   ]
  },
  {
   "cell_type": "code",
   "execution_count": 5,
   "metadata": {},
   "outputs": [],
   "source": [
    "# Create an experiment with a name that is unique and case sensitive.\n",
    "client = MlflowClient()\n",
    "experiment_id = client.create_experiment(\n",
    "    \"Social NLP Experiments\",\n",
    "    artifact_location=Path.cwd().joinpath(\"mlruns\").as_uri(),\n",
    "    tags={\"version\": \"v1\", \"priority\": \"P1\"},\n",
    ")\n",
    "client.set_experiment_tag(experiment_id, \"nlp.framework\", \"Spark NLP\")"
   ]
  },
  {
   "cell_type": "markdown",
   "metadata": {},
   "source": [
    "### ML flow search experiments"
   ]
  },
  {
   "cell_type": "code",
   "execution_count": 8,
   "metadata": {},
   "outputs": [
    {
     "name": "stdout",
     "output_type": "stream",
     "text": [
      "<Experiment: artifact_location='mlflow-artifacts:/1', creation_time=1741404225075, experiment_id='1', last_update_time=1741404225075, lifecycle_stage='active', name='v2_logging_api1', tags={'mlflow.sharedViewState.03a57b3a677ee57a7e35b9d5172bf7f96cf4af2826b8a172678c7a1dff9d2617': '{\"searchFilter\":\"\",\"orderByKey\":\"attributes.start_time\",\"orderByAsc\":false,\"startTime\":\"ALL\",\"lifecycleFilter\":\"Active\",\"datasetsFilter\":[],\"modelVersionFilter\":\"All '\n",
      "                                                                                            'Runs\",\"selectedColumns\":[\"attributes.`Source`\",\"attributes.`Models`\",\"attributes.`Dataset`\"],\"runsExpanded\":{},\"runsPinned\":[],\"runsHidden\":[],\"runsHiddenMode\":\"FIRST_10_RUNS\",\"compareRunCharts\":[{\"uuid\":\"1741404776120t02y74e1\",\"type\":\"BAR\",\"runsCountToCompare\":10,\"metricSectionId\":\"1741404776120tqu9pyr7\",\"deleted\":false,\"isGenerated\":true,\"metricKey\":\"mean_squared_error_X_test\"},{\"uuid\":\"1741404776120i1qftv9a\",\"type\":\"BAR\",\"runsCountToCompare\":10,\"metricSectionId\":\"1741404776120tqu9pyr7\",\"deleted\":false,\"isGenerated\":true,\"metricKey\":\"mse\"},{\"uuid\":\"1741404776120pyw5r3rb\",\"type\":\"BAR\",\"runsCountToCompare\":10,\"metricSectionId\":\"17414047761207p53bcls\",\"deleted\":false,\"isGenerated\":true,\"metricKey\":\"system/cpu_utilization_percentage\"},{\"uuid\":\"174140477612061kkuerg\",\"type\":\"BAR\",\"runsCountToCompare\":10,\"metricSectionId\":\"17414047761207p53bcls\",\"deleted\":false,\"isGenerated\":true,\"metricKey\":\"system/disk_available_megabytes\"},{\"uuid\":\"1741404776120a4ccxrig\",\"type\":\"BAR\",\"runsCountToCompare\":10,\"metricSectionId\":\"17414047761207p53bcls\",\"deleted\":false,\"isGenerated\":true,\"metricKey\":\"system/disk_usage_megabytes\"},{\"uuid\":\"17414047761207vqvfd19\",\"type\":\"BAR\",\"runsCountToCompare\":10,\"metricSectionId\":\"17414047761207p53bcls\",\"deleted\":false,\"isGenerated\":true,\"metricKey\":\"system/disk_usage_percentage\"},{\"uuid\":\"1741404776120q2ge4e5i\",\"type\":\"BAR\",\"runsCountToCompare\":10,\"metricSectionId\":\"17414047761207p53bcls\",\"deleted\":false,\"isGenerated\":true,\"metricKey\":\"system/network_receive_megabytes\"},{\"uuid\":\"1741404776120bwnn5af3\",\"type\":\"BAR\",\"runsCountToCompare\":10,\"metricSectionId\":\"17414047761207p53bcls\",\"deleted\":false,\"isGenerated\":true,\"metricKey\":\"system/network_transmit_megabytes\"},{\"uuid\":\"1741404776120511a6p2w\",\"type\":\"BAR\",\"runsCountToCompare\":10,\"metricSectionId\":\"17414047761207p53bcls\",\"deleted\":false,\"isGenerated\":true,\"metricKey\":\"system/system_memory_usage_megabytes\"},{\"uuid\":\"1741404776120ei0sgtgu\",\"type\":\"BAR\",\"runsCountToCompare\":10,\"metricSectionId\":\"17414047761207p53bcls\",\"deleted\":false,\"isGenerated\":true,\"metricKey\":\"system/system_memory_usage_percentage\"},{\"uuid\":\"1741404776120ei0sa5jq\",\"type\":\"BAR\",\"runsCountToCompare\":10,\"metricSectionId\":\"1741404776120tqu9pyr7\",\"deleted\":false,\"isGenerated\":true,\"metricKey\":\"training_mean_absolute_error\"},{\"uuid\":\"17414047761208m7ypgby\",\"type\":\"BAR\",\"runsCountToCompare\":10,\"metricSectionId\":\"1741404776120tqu9pyr7\",\"deleted\":false,\"isGenerated\":true,\"metricKey\":\"training_mean_squared_error\"},{\"uuid\":\"17414047761207cq08krn\",\"type\":\"BAR\",\"runsCountToCompare\":10,\"metricSectionId\":\"1741404776120tqu9pyr7\",\"deleted\":false,\"isGenerated\":true,\"metricKey\":\"training_r2_score\"},{\"uuid\":\"17414047761202mh2ptqi\",\"type\":\"BAR\",\"runsCountToCompare\":10,\"metricSectionId\":\"1741404776120tqu9pyr7\",\"deleted\":false,\"isGenerated\":true,\"metricKey\":\"training_root_mean_squared_error\"},{\"uuid\":\"17414047761206gddvfiz\",\"type\":\"BAR\",\"runsCountToCompare\":10,\"metricSectionId\":\"1741404776120tqu9pyr7\",\"deleted\":false,\"isGenerated\":true,\"metricKey\":\"training_score\"}],\"compareRunSections\":[{\"uuid\":\"1741404776120tqu9pyr7\",\"name\":\"Model '\n",
      "                                                                                            'metrics\",\"display\":true,\"isReordered\":false,\"deleted\":false,\"isGenerated\":true},{\"uuid\":\"17414047761207p53bcls\",\"name\":\"System '\n",
      "                                                                                            'metrics\",\"display\":true,\"isReordered\":false,\"deleted\":false,\"isGenerated\":true}],\"viewMaximized\":false,\"runListHidden\":false,\"isAccordionReordered\":false,\"useGroupedValuesInCharts\":true,\"groupBy\":null,\"groupsExpanded\":{},\"autoRefreshEnabled\":false}'}>\n"
     ]
    }
   ],
   "source": [
    "from mlflow.tracking import MlflowClient\n",
    "\n",
    "client = MlflowClient()\n",
    "apples_experiment = client.search_experiments(\n",
    "    filter_string=\"name='v2_logging_api1'\"\n",
    ")\n",
    "for cur in apples_experiment:\n",
    "    print(cur)"
   ]
  },
  {
   "cell_type": "code",
   "execution_count": null,
   "metadata": {},
   "outputs": [],
   "source": []
  },
  {
   "cell_type": "code",
   "execution_count": null,
   "metadata": {},
   "outputs": [],
   "source": []
  }
 ],
 "metadata": {
  "kernelspec": {
   "display_name": "8_Experiment_Tracking-keG3Bihs",
   "language": "python",
   "name": "python3"
  },
  "language_info": {
   "codemirror_mode": {
    "name": "ipython",
    "version": 3
   },
   "file_extension": ".py",
   "mimetype": "text/x-python",
   "name": "python",
   "nbconvert_exporter": "python",
   "pygments_lexer": "ipython3",
   "version": "3.10.14"
  }
 },
 "nbformat": 4,
 "nbformat_minor": 2
}

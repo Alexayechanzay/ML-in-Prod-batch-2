{
 "cells": [
  {
   "cell_type": "markdown",
   "metadata": {},
   "source": [
    "### How to restore deleted MLflow experiment"
   ]
  },
  {
   "cell_type": "markdown",
   "metadata": {},
   "source": [
    "1. Create MLflow experiment from MLflow UI. name  = mlflow_test\n",
    "And store exp_id (eg: 904123839726578774)\n",
    "\n",
    "2. Delete the \"mlflow_test\" experiment.\n",
    "\n",
    "3. Check the folder name in \"904123839726578774\" in ```mlruns/.trash/```\n",
    "\n",
    "4. To restore the that experiment. Please move that folder to ```mlruns/```\n",
    "\n",
    "5. Set \"active\" to \"lifecycle_stage\" from the file ```mlruns/904123839726578774/meta.yaml```\n",
    "\n",
    "6. Refresh the mlflow UI."
   ]
  },
  {
   "cell_type": "code",
   "execution_count": 4,
   "metadata": {},
   "outputs": [],
   "source": [
    "### Create MLflow exp with tags"
   ]
  },
  {
   "cell_type": "code",
   "execution_count": 1,
   "metadata": {},
   "outputs": [],
   "source": [
    "from pathlib import Path\n",
    "from mlflow import MlflowClient"
   ]
  },
  {
   "cell_type": "code",
   "execution_count": 2,
   "metadata": {},
   "outputs": [
    {
     "name": "stderr",
     "output_type": "stream",
     "text": [
      "WARNING:root:Malformed experiment '1'. Detailed error Yaml file '/Users/tharhtet/Documents/github/ML-in-Prod-batch-2/8_Experiment_Tracking/mlruns/1/meta.yaml' does not exist.\n",
      "Traceback (most recent call last):\n",
      "  File \"/Users/tharhtet/.local/share/virtualenvs/8_Experiment_Tracking-keG3Bihs/lib/python3.10/site-packages/mlflow/store/tracking/file_store.py\", line 328, in search_experiments\n",
      "    exp = self._get_experiment(exp_id, view_type)\n",
      "  File \"/Users/tharhtet/.local/share/virtualenvs/8_Experiment_Tracking-keG3Bihs/lib/python3.10/site-packages/mlflow/store/tracking/file_store.py\", line 422, in _get_experiment\n",
      "    meta = FileStore._read_yaml(experiment_dir, FileStore.META_DATA_FILE_NAME)\n",
      "  File \"/Users/tharhtet/.local/share/virtualenvs/8_Experiment_Tracking-keG3Bihs/lib/python3.10/site-packages/mlflow/store/tracking/file_store.py\", line 1368, in _read_yaml\n",
      "    return _read_helper(root, file_name, attempts_remaining=retries)\n",
      "  File \"/Users/tharhtet/.local/share/virtualenvs/8_Experiment_Tracking-keG3Bihs/lib/python3.10/site-packages/mlflow/store/tracking/file_store.py\", line 1361, in _read_helper\n",
      "    result = read_yaml(root, file_name)\n",
      "  File \"/Users/tharhtet/.local/share/virtualenvs/8_Experiment_Tracking-keG3Bihs/lib/python3.10/site-packages/mlflow/utils/file_utils.py\", line 310, in read_yaml\n",
      "    raise MissingConfigException(f\"Yaml file '{file_path}' does not exist.\")\n",
      "mlflow.exceptions.MissingConfigException: Yaml file '/Users/tharhtet/Documents/github/ML-in-Prod-batch-2/8_Experiment_Tracking/mlruns/1/meta.yaml' does not exist.\n",
      "WARNING:root:Malformed experiment '2'. Detailed error Yaml file '/Users/tharhtet/Documents/github/ML-in-Prod-batch-2/8_Experiment_Tracking/mlruns/2/meta.yaml' does not exist.\n",
      "Traceback (most recent call last):\n",
      "  File \"/Users/tharhtet/.local/share/virtualenvs/8_Experiment_Tracking-keG3Bihs/lib/python3.10/site-packages/mlflow/store/tracking/file_store.py\", line 328, in search_experiments\n",
      "    exp = self._get_experiment(exp_id, view_type)\n",
      "  File \"/Users/tharhtet/.local/share/virtualenvs/8_Experiment_Tracking-keG3Bihs/lib/python3.10/site-packages/mlflow/store/tracking/file_store.py\", line 422, in _get_experiment\n",
      "    meta = FileStore._read_yaml(experiment_dir, FileStore.META_DATA_FILE_NAME)\n",
      "  File \"/Users/tharhtet/.local/share/virtualenvs/8_Experiment_Tracking-keG3Bihs/lib/python3.10/site-packages/mlflow/store/tracking/file_store.py\", line 1368, in _read_yaml\n",
      "    return _read_helper(root, file_name, attempts_remaining=retries)\n",
      "  File \"/Users/tharhtet/.local/share/virtualenvs/8_Experiment_Tracking-keG3Bihs/lib/python3.10/site-packages/mlflow/store/tracking/file_store.py\", line 1361, in _read_helper\n",
      "    result = read_yaml(root, file_name)\n",
      "  File \"/Users/tharhtet/.local/share/virtualenvs/8_Experiment_Tracking-keG3Bihs/lib/python3.10/site-packages/mlflow/utils/file_utils.py\", line 310, in read_yaml\n",
      "    raise MissingConfigException(f\"Yaml file '{file_path}' does not exist.\")\n",
      "mlflow.exceptions.MissingConfigException: Yaml file '/Users/tharhtet/Documents/github/ML-in-Prod-batch-2/8_Experiment_Tracking/mlruns/2/meta.yaml' does not exist.\n"
     ]
    },
    {
     "ename": "MlflowException",
     "evalue": "Experiment 'Social NLP Experiments' already exists.",
     "output_type": "error",
     "traceback": [
      "\u001b[0;31m---------------------------------------------------------------------------\u001b[0m",
      "\u001b[0;31mMlflowException\u001b[0m                           Traceback (most recent call last)",
      "Cell \u001b[0;32mIn[2], line 3\u001b[0m\n\u001b[1;32m      1\u001b[0m \u001b[38;5;66;03m# Create an experiment with a name that is unique and case sensitive.\u001b[39;00m\n\u001b[1;32m      2\u001b[0m client \u001b[38;5;241m=\u001b[39m MlflowClient()\n\u001b[0;32m----> 3\u001b[0m experiment_id \u001b[38;5;241m=\u001b[39m \u001b[43mclient\u001b[49m\u001b[38;5;241;43m.\u001b[39;49m\u001b[43mcreate_experiment\u001b[49m\u001b[43m(\u001b[49m\n\u001b[1;32m      4\u001b[0m \u001b[43m    \u001b[49m\u001b[38;5;124;43m\"\u001b[39;49m\u001b[38;5;124;43mSocial NLP Experiments\u001b[39;49m\u001b[38;5;124;43m\"\u001b[39;49m\u001b[43m,\u001b[49m\n\u001b[1;32m      5\u001b[0m \u001b[43m    \u001b[49m\u001b[43martifact_location\u001b[49m\u001b[38;5;241;43m=\u001b[39;49m\u001b[43mPath\u001b[49m\u001b[38;5;241;43m.\u001b[39;49m\u001b[43mcwd\u001b[49m\u001b[43m(\u001b[49m\u001b[43m)\u001b[49m\u001b[38;5;241;43m.\u001b[39;49m\u001b[43mjoinpath\u001b[49m\u001b[43m(\u001b[49m\u001b[38;5;124;43m\"\u001b[39;49m\u001b[38;5;124;43mmlruns\u001b[39;49m\u001b[38;5;124;43m\"\u001b[39;49m\u001b[43m)\u001b[49m\u001b[38;5;241;43m.\u001b[39;49m\u001b[43mas_uri\u001b[49m\u001b[43m(\u001b[49m\u001b[43m)\u001b[49m\u001b[43m,\u001b[49m\n\u001b[1;32m      6\u001b[0m \u001b[43m    \u001b[49m\u001b[43mtags\u001b[49m\u001b[38;5;241;43m=\u001b[39;49m\u001b[43m{\u001b[49m\u001b[38;5;124;43m\"\u001b[39;49m\u001b[38;5;124;43mversion\u001b[39;49m\u001b[38;5;124;43m\"\u001b[39;49m\u001b[43m:\u001b[49m\u001b[43m \u001b[49m\u001b[38;5;124;43m\"\u001b[39;49m\u001b[38;5;124;43mv1\u001b[39;49m\u001b[38;5;124;43m\"\u001b[39;49m\u001b[43m,\u001b[49m\u001b[43m \u001b[49m\u001b[38;5;124;43m\"\u001b[39;49m\u001b[38;5;124;43mpriority\u001b[39;49m\u001b[38;5;124;43m\"\u001b[39;49m\u001b[43m:\u001b[49m\u001b[43m \u001b[49m\u001b[38;5;124;43m\"\u001b[39;49m\u001b[38;5;124;43mP1\u001b[39;49m\u001b[38;5;124;43m\"\u001b[39;49m\u001b[43m}\u001b[49m\u001b[43m,\u001b[49m\n\u001b[1;32m      7\u001b[0m \u001b[43m)\u001b[49m\n\u001b[1;32m      8\u001b[0m client\u001b[38;5;241m.\u001b[39mset_experiment_tag(experiment_id, \u001b[38;5;124m\"\u001b[39m\u001b[38;5;124mnlp.framework\u001b[39m\u001b[38;5;124m\"\u001b[39m, \u001b[38;5;124m\"\u001b[39m\u001b[38;5;124mSpark NLP\u001b[39m\u001b[38;5;124m\"\u001b[39m)\n",
      "File \u001b[0;32m~/.local/share/virtualenvs/8_Experiment_Tracking-keG3Bihs/lib/python3.10/site-packages/mlflow/tracking/client.py:1378\u001b[0m, in \u001b[0;36mMlflowClient.create_experiment\u001b[0;34m(self, name, artifact_location, tags)\u001b[0m\n\u001b[1;32m   1326\u001b[0m \u001b[38;5;28;01mdef\u001b[39;00m\u001b[38;5;250m \u001b[39m\u001b[38;5;21mcreate_experiment\u001b[39m(\n\u001b[1;32m   1327\u001b[0m     \u001b[38;5;28mself\u001b[39m,\n\u001b[1;32m   1328\u001b[0m     name: \u001b[38;5;28mstr\u001b[39m,\n\u001b[1;32m   1329\u001b[0m     artifact_location: Optional[\u001b[38;5;28mstr\u001b[39m] \u001b[38;5;241m=\u001b[39m \u001b[38;5;28;01mNone\u001b[39;00m,\n\u001b[1;32m   1330\u001b[0m     tags: Optional[\u001b[38;5;28mdict\u001b[39m[\u001b[38;5;28mstr\u001b[39m, Any]] \u001b[38;5;241m=\u001b[39m \u001b[38;5;28;01mNone\u001b[39;00m,\n\u001b[1;32m   1331\u001b[0m ) \u001b[38;5;241m-\u001b[39m\u001b[38;5;241m>\u001b[39m \u001b[38;5;28mstr\u001b[39m:\n\u001b[1;32m   1332\u001b[0m \u001b[38;5;250m    \u001b[39m\u001b[38;5;124;03m\"\"\"Create an experiment.\u001b[39;00m\n\u001b[1;32m   1333\u001b[0m \n\u001b[1;32m   1334\u001b[0m \u001b[38;5;124;03m    Args:\u001b[39;00m\n\u001b[0;32m   (...)\u001b[0m\n\u001b[1;32m   1376\u001b[0m \n\u001b[1;32m   1377\u001b[0m \u001b[38;5;124;03m    \"\"\"\u001b[39;00m\n\u001b[0;32m-> 1378\u001b[0m     \u001b[38;5;28;01mreturn\u001b[39;00m \u001b[38;5;28;43mself\u001b[39;49m\u001b[38;5;241;43m.\u001b[39;49m\u001b[43m_tracking_client\u001b[49m\u001b[38;5;241;43m.\u001b[39;49m\u001b[43mcreate_experiment\u001b[49m\u001b[43m(\u001b[49m\u001b[43mname\u001b[49m\u001b[43m,\u001b[49m\u001b[43m \u001b[49m\u001b[43martifact_location\u001b[49m\u001b[43m,\u001b[49m\u001b[43m \u001b[49m\u001b[43mtags\u001b[49m\u001b[43m)\u001b[49m\n",
      "File \u001b[0;32m~/.local/share/virtualenvs/8_Experiment_Tracking-keG3Bihs/lib/python3.10/site-packages/mlflow/tracking/_tracking_service/client.py:603\u001b[0m, in \u001b[0;36mTrackingServiceClient.create_experiment\u001b[0;34m(self, name, artifact_location, tags)\u001b[0m\n\u001b[1;32m    589\u001b[0m \u001b[38;5;250m\u001b[39m\u001b[38;5;124;03m\"\"\"Create an experiment.\u001b[39;00m\n\u001b[1;32m    590\u001b[0m \n\u001b[1;32m    591\u001b[0m \u001b[38;5;124;03mArgs:\u001b[39;00m\n\u001b[0;32m   (...)\u001b[0m\n\u001b[1;32m    600\u001b[0m \n\u001b[1;32m    601\u001b[0m \u001b[38;5;124;03m\"\"\"\u001b[39;00m\n\u001b[1;32m    602\u001b[0m _validate_experiment_artifact_location(artifact_location)\n\u001b[0;32m--> 603\u001b[0m \u001b[38;5;28;01mreturn\u001b[39;00m \u001b[38;5;28;43mself\u001b[39;49m\u001b[38;5;241;43m.\u001b[39;49m\u001b[43mstore\u001b[49m\u001b[38;5;241;43m.\u001b[39;49m\u001b[43mcreate_experiment\u001b[49m\u001b[43m(\u001b[49m\n\u001b[1;32m    604\u001b[0m \u001b[43m    \u001b[49m\u001b[43mname\u001b[49m\u001b[38;5;241;43m=\u001b[39;49m\u001b[43mname\u001b[49m\u001b[43m,\u001b[49m\n\u001b[1;32m    605\u001b[0m \u001b[43m    \u001b[49m\u001b[43martifact_location\u001b[49m\u001b[38;5;241;43m=\u001b[39;49m\u001b[43martifact_location\u001b[49m\u001b[43m,\u001b[49m\n\u001b[1;32m    606\u001b[0m \u001b[43m    \u001b[49m\u001b[43mtags\u001b[49m\u001b[38;5;241;43m=\u001b[39;49m\u001b[43m[\u001b[49m\u001b[43mExperimentTag\u001b[49m\u001b[43m(\u001b[49m\u001b[43mkey\u001b[49m\u001b[43m,\u001b[49m\u001b[43m \u001b[49m\u001b[43mvalue\u001b[49m\u001b[43m)\u001b[49m\u001b[43m \u001b[49m\u001b[38;5;28;43;01mfor\u001b[39;49;00m\u001b[43m \u001b[49m\u001b[43m(\u001b[49m\u001b[43mkey\u001b[49m\u001b[43m,\u001b[49m\u001b[43m \u001b[49m\u001b[43mvalue\u001b[49m\u001b[43m)\u001b[49m\u001b[43m \u001b[49m\u001b[38;5;129;43;01min\u001b[39;49;00m\u001b[43m \u001b[49m\u001b[43mtags\u001b[49m\u001b[38;5;241;43m.\u001b[39;49m\u001b[43mitems\u001b[49m\u001b[43m(\u001b[49m\u001b[43m)\u001b[49m\u001b[43m]\u001b[49m\u001b[43m \u001b[49m\u001b[38;5;28;43;01mif\u001b[39;49;00m\u001b[43m \u001b[49m\u001b[43mtags\u001b[49m\u001b[43m \u001b[49m\u001b[38;5;28;43;01melse\u001b[39;49;00m\u001b[43m \u001b[49m\u001b[43m[\u001b[49m\u001b[43m]\u001b[49m\u001b[43m,\u001b[49m\n\u001b[1;32m    607\u001b[0m \u001b[43m\u001b[49m\u001b[43m)\u001b[49m\n",
      "File \u001b[0;32m~/.local/share/virtualenvs/8_Experiment_Tracking-keG3Bihs/lib/python3.10/site-packages/mlflow/store/tracking/file_store.py:406\u001b[0m, in \u001b[0;36mFileStore.create_experiment\u001b[0;34m(self, name, artifact_location, tags)\u001b[0m\n\u001b[1;32m    404\u001b[0m \u001b[38;5;28mself\u001b[39m\u001b[38;5;241m.\u001b[39m_check_root_dir()\n\u001b[1;32m    405\u001b[0m _validate_experiment_name(name)\n\u001b[0;32m--> 406\u001b[0m \u001b[38;5;28;43mself\u001b[39;49m\u001b[38;5;241;43m.\u001b[39;49m\u001b[43m_validate_experiment_does_not_exist\u001b[49m\u001b[43m(\u001b[49m\u001b[43mname\u001b[49m\u001b[43m)\u001b[49m\n\u001b[1;32m    407\u001b[0m experiment_id \u001b[38;5;241m=\u001b[39m _generate_unique_integer_id()\n\u001b[1;32m    408\u001b[0m \u001b[38;5;28;01mreturn\u001b[39;00m \u001b[38;5;28mself\u001b[39m\u001b[38;5;241m.\u001b[39m_create_experiment_with_id(name, \u001b[38;5;28mstr\u001b[39m(experiment_id), artifact_location, tags)\n",
      "File \u001b[0;32m~/.local/share/virtualenvs/8_Experiment_Tracking-keG3Bihs/lib/python3.10/site-packages/mlflow/store/tracking/file_store.py:398\u001b[0m, in \u001b[0;36mFileStore._validate_experiment_does_not_exist\u001b[0;34m(self, name)\u001b[0m\n\u001b[1;32m    390\u001b[0m     \u001b[38;5;28;01mraise\u001b[39;00m MlflowException(\n\u001b[1;32m    391\u001b[0m         \u001b[38;5;124mf\u001b[39m\u001b[38;5;124m\"\u001b[39m\u001b[38;5;124mExperiment \u001b[39m\u001b[38;5;132;01m{\u001b[39;00mexperiment\u001b[38;5;241m.\u001b[39mname\u001b[38;5;132;01m!r}\u001b[39;00m\u001b[38;5;124m already exists in deleted state. \u001b[39m\u001b[38;5;124m\"\u001b[39m\n\u001b[1;32m    392\u001b[0m         \u001b[38;5;124m\"\u001b[39m\u001b[38;5;124mYou can restore the experiment, or permanently delete the experiment \u001b[39m\u001b[38;5;124m\"\u001b[39m\n\u001b[0;32m   (...)\u001b[0m\n\u001b[1;32m    395\u001b[0m         databricks_pb2\u001b[38;5;241m.\u001b[39mRESOURCE_ALREADY_EXISTS,\n\u001b[1;32m    396\u001b[0m     )\n\u001b[1;32m    397\u001b[0m \u001b[38;5;28;01melse\u001b[39;00m:\n\u001b[0;32m--> 398\u001b[0m     \u001b[38;5;28;01mraise\u001b[39;00m MlflowException(\n\u001b[1;32m    399\u001b[0m         \u001b[38;5;124mf\u001b[39m\u001b[38;5;124m\"\u001b[39m\u001b[38;5;124mExperiment \u001b[39m\u001b[38;5;124m'\u001b[39m\u001b[38;5;132;01m{\u001b[39;00mexperiment\u001b[38;5;241m.\u001b[39mname\u001b[38;5;132;01m}\u001b[39;00m\u001b[38;5;124m'\u001b[39m\u001b[38;5;124m already exists.\u001b[39m\u001b[38;5;124m\"\u001b[39m,\n\u001b[1;32m    400\u001b[0m         databricks_pb2\u001b[38;5;241m.\u001b[39mRESOURCE_ALREADY_EXISTS,\n\u001b[1;32m    401\u001b[0m     )\n",
      "\u001b[0;31mMlflowException\u001b[0m: Experiment 'Social NLP Experiments' already exists."
     ]
    }
   ],
   "source": [
    "# Create an experiment with a name that is unique and case sensitive.\n",
    "client = MlflowClient()\n",
    "experiment_id = client.create_experiment(\n",
    "    \"Social NLP Experiments\",\n",
    "    artifact_location=Path.cwd().joinpath(\"mlruns\").as_uri(),\n",
    "    tags={\"version\": \"v1\", \"priority\": \"P1\"},\n",
    ")\n",
    "client.set_experiment_tag(experiment_id, \"nlp.framework\", \"Spark NLP\")"
   ]
  },
  {
   "cell_type": "markdown",
   "metadata": {},
   "source": [
    "### ML flow search experiments"
   ]
  },
  {
   "cell_type": "code",
   "execution_count": 4,
   "metadata": {},
   "outputs": [
    {
     "name": "stderr",
     "output_type": "stream",
     "text": [
      "WARNING:root:Malformed experiment '1'. Detailed error Yaml file '/Users/tharhtet/Documents/github/ML-in-Prod-batch-2/8_Experiment_Tracking/mlruns/1/meta.yaml' does not exist.\n",
      "Traceback (most recent call last):\n",
      "  File \"/Users/tharhtet/.local/share/virtualenvs/8_Experiment_Tracking-keG3Bihs/lib/python3.10/site-packages/mlflow/store/tracking/file_store.py\", line 328, in search_experiments\n",
      "    exp = self._get_experiment(exp_id, view_type)\n",
      "  File \"/Users/tharhtet/.local/share/virtualenvs/8_Experiment_Tracking-keG3Bihs/lib/python3.10/site-packages/mlflow/store/tracking/file_store.py\", line 422, in _get_experiment\n",
      "    meta = FileStore._read_yaml(experiment_dir, FileStore.META_DATA_FILE_NAME)\n",
      "  File \"/Users/tharhtet/.local/share/virtualenvs/8_Experiment_Tracking-keG3Bihs/lib/python3.10/site-packages/mlflow/store/tracking/file_store.py\", line 1368, in _read_yaml\n",
      "    return _read_helper(root, file_name, attempts_remaining=retries)\n",
      "  File \"/Users/tharhtet/.local/share/virtualenvs/8_Experiment_Tracking-keG3Bihs/lib/python3.10/site-packages/mlflow/store/tracking/file_store.py\", line 1361, in _read_helper\n",
      "    result = read_yaml(root, file_name)\n",
      "  File \"/Users/tharhtet/.local/share/virtualenvs/8_Experiment_Tracking-keG3Bihs/lib/python3.10/site-packages/mlflow/utils/file_utils.py\", line 310, in read_yaml\n",
      "    raise MissingConfigException(f\"Yaml file '{file_path}' does not exist.\")\n",
      "mlflow.exceptions.MissingConfigException: Yaml file '/Users/tharhtet/Documents/github/ML-in-Prod-batch-2/8_Experiment_Tracking/mlruns/1/meta.yaml' does not exist.\n",
      "WARNING:root:Malformed experiment '2'. Detailed error Yaml file '/Users/tharhtet/Documents/github/ML-in-Prod-batch-2/8_Experiment_Tracking/mlruns/2/meta.yaml' does not exist.\n",
      "Traceback (most recent call last):\n",
      "  File \"/Users/tharhtet/.local/share/virtualenvs/8_Experiment_Tracking-keG3Bihs/lib/python3.10/site-packages/mlflow/store/tracking/file_store.py\", line 328, in search_experiments\n",
      "    exp = self._get_experiment(exp_id, view_type)\n",
      "  File \"/Users/tharhtet/.local/share/virtualenvs/8_Experiment_Tracking-keG3Bihs/lib/python3.10/site-packages/mlflow/store/tracking/file_store.py\", line 422, in _get_experiment\n",
      "    meta = FileStore._read_yaml(experiment_dir, FileStore.META_DATA_FILE_NAME)\n",
      "  File \"/Users/tharhtet/.local/share/virtualenvs/8_Experiment_Tracking-keG3Bihs/lib/python3.10/site-packages/mlflow/store/tracking/file_store.py\", line 1368, in _read_yaml\n",
      "    return _read_helper(root, file_name, attempts_remaining=retries)\n",
      "  File \"/Users/tharhtet/.local/share/virtualenvs/8_Experiment_Tracking-keG3Bihs/lib/python3.10/site-packages/mlflow/store/tracking/file_store.py\", line 1361, in _read_helper\n",
      "    result = read_yaml(root, file_name)\n",
      "  File \"/Users/tharhtet/.local/share/virtualenvs/8_Experiment_Tracking-keG3Bihs/lib/python3.10/site-packages/mlflow/utils/file_utils.py\", line 310, in read_yaml\n",
      "    raise MissingConfigException(f\"Yaml file '{file_path}' does not exist.\")\n",
      "mlflow.exceptions.MissingConfigException: Yaml file '/Users/tharhtet/Documents/github/ML-in-Prod-batch-2/8_Experiment_Tracking/mlruns/2/meta.yaml' does not exist.\n"
     ]
    }
   ],
   "source": [
    "from mlflow.tracking import MlflowClient\n",
    "\n",
    "client = MlflowClient()\n",
    "apples_experiment = client.search_experiments(\n",
    "    filter_string=\"name='v2_logging_api'\"\n",
    ")\n",
    "for cur in apples_experiment:\n",
    "    print(cur)"
   ]
  },
  {
   "cell_type": "code",
   "execution_count": null,
   "metadata": {},
   "outputs": [],
   "source": []
  },
  {
   "cell_type": "code",
   "execution_count": null,
   "metadata": {},
   "outputs": [],
   "source": []
  }
 ],
 "metadata": {
  "kernelspec": {
   "display_name": "8_Experiment_Tracking-keG3Bihs",
   "language": "python",
   "name": "python3"
  },
  "language_info": {
   "codemirror_mode": {
    "name": "ipython",
    "version": 3
   },
   "file_extension": ".py",
   "mimetype": "text/x-python",
   "name": "python",
   "nbconvert_exporter": "python",
   "pygments_lexer": "ipython3",
   "version": "3.10.14"
  }
 },
 "nbformat": 4,
 "nbformat_minor": 2
}
